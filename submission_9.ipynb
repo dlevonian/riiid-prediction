{
  "nbformat": 4,
  "nbformat_minor": 0,
  "metadata": {
    "colab": {
      "name": "submission_9.ipynb",
      "provenance": [],
      "collapsed_sections": [],
      "toc_visible": true,
      "machine_shape": "hm",
      "include_colab_link": true
    },
    "kernelspec": {
      "display_name": "Python 3",
      "name": "python3"
    },
    "accelerator": "GPU"
  },
  "cells": [
    {
      "cell_type": "markdown",
      "metadata": {
        "id": "view-in-github",
        "colab_type": "text"
      },
      "source": [
        "<a href=\"https://colab.research.google.com/github/dlevonian/riiid-prediction/blob/master/submission_9.ipynb\" target=\"_parent\"><img src=\"https://colab.research.google.com/assets/colab-badge.svg\" alt=\"Open In Colab\"/></a>"
      ]
    },
    {
      "cell_type": "markdown",
      "metadata": {
        "id": "lC_PIJCwViWF"
      },
      "source": [
        "## Resources\n",
        "\n",
        "Kaggle competition: https://www.kaggle.com/c/riiid-test-answer-prediction/overview\n",
        "\n",
        "Riiid research: https://arxiv.org/pdf/2010.12042\n",
        "\n",
        "Attention Is All You Need: https://arxiv.org/abs/1706.03762\n"
      ]
    },
    {
      "cell_type": "markdown",
      "metadata": {
        "id": "DXFwy3XQ-MEY"
      },
      "source": [
        "## Config"
      ]
    },
    {
      "cell_type": "code",
      "metadata": {
        "colab": {
          "base_uri": "https://localhost:8080/"
        },
        "id": "_EmvkCJIWKGj",
        "outputId": "622619f1-91a7-4ef3-f415-765f75f20169"
      },
      "source": [
        "from google.colab import drive\n",
        "drive.mount('/content/drive', force_remount=True)\n",
        "path = '/content/drive/My Drive/Riiid/'"
      ],
      "execution_count": 1,
      "outputs": [
        {
          "output_type": "stream",
          "name": "stdout",
          "text": [
            "Mounted at /content/drive\n"
          ]
        }
      ]
    },
    {
      "cell_type": "code",
      "metadata": {
        "colab": {
          "base_uri": "https://localhost:8080/"
        },
        "id": "E4YbVdHol7Zv",
        "outputId": "f90d1f71-9926-4393-9ab1-4a4564142bba"
      },
      "source": [
        "import sys\n",
        "from psutil import virtual_memory\n",
        "def check_memory():\n",
        "    print(f'Available RAM:  {virtual_memory().available/1e9:.1f} GB   ',\n",
        "          f'{100*virtual_memory().available/virtual_memory().total:.1f}%')\n",
        "check_memory()\n",
        "\n",
        "import numpy as np\n",
        "import pandas as pd\n",
        "pd.options.mode.chained_assignment = None\n",
        "import time\n",
        "import datetime\n",
        "import gc\n",
        "import pickle\n",
        "\n",
        "import matplotlib.pyplot as plt\n",
        "plt.style.use('ggplot')\n",
        "\n",
        "import tensorflow as tf\n",
        "from keras.layers import Embedding, Dense, Dropout, LayerNormalization\n",
        "from keras.losses import binary_crossentropy\n",
        "import keras.backend as K\n",
        "\n",
        "from sklearn.metrics import roc_auc_score, roc_curve\n",
        "\n",
        "TIC=time.time()"
      ],
      "execution_count": 2,
      "outputs": [
        {
          "output_type": "stream",
          "name": "stdout",
          "text": [
            "Available RAM:  26.3 GB    96.2%\n"
          ]
        }
      ]
    },
    {
      "cell_type": "code",
      "metadata": {
        "id": "-QrgvzMHs6vX"
      },
      "source": [
        "class Positions(object):\n",
        "    def __init__(self, columns):\n",
        "        for i, col in enumerate(columns): \n",
        "            setattr(self, col, i)"
      ],
      "execution_count": 3,
      "outputs": []
    },
    {
      "cell_type": "code",
      "metadata": {
        "id": "7HDHgIEDBsbG"
      },
      "source": [
        "# ============== INTAKE\n",
        "N_QUESTIONS = 13_523\n",
        "REMOVE_LECTURES = True\n",
        "LAG_BINS = [-1e8,0,0.1,5,10,15,20,25,30,35,40,50,60,70,80,90,100,125,150,200,300,500,3600,36000]\n",
        "N_LAGBINS = len(LAG_BINS)\n",
        "HIST_BINS = [1,13,28,51,83,124,173,232,302,385,484,604,749,929,1155,1446,1832,2382,3251,4945]\n",
        "N_HISTBINS = len(HIST_BINS)\n",
        "\n",
        "# ============== DATASET\n",
        "WINDOW = 128\n",
        "STEP = 96\n",
        "BATCH_SIZE = 64\n",
        "D_TYPE = tf.float32\n",
        "\n",
        "# ============== TRANSFORMER\n",
        "D_MODEL = 160\n",
        "N_LAYERS = 2\n",
        "N_HEADS = 8 \n",
        "DFF = 2 * D_MODEL\n",
        "DROPOUT = 0.1\n"
      ],
      "execution_count": 4,
      "outputs": []
    },
    {
      "cell_type": "markdown",
      "metadata": {
        "id": "NYiqtBk-9fQm"
      },
      "source": [
        "## Data pipeline"
      ]
    },
    {
      "cell_type": "markdown",
      "metadata": {
        "id": "mG8G1uKKH3zH"
      },
      "source": [
        "### train"
      ]
    },
    {
      "cell_type": "code",
      "metadata": {
        "colab": {
          "base_uri": "https://localhost:8080/"
        },
        "id": "wo4abIexoDHD",
        "outputId": "df863646-c15a-4cf9-85b6-897440a6d6fe"
      },
      "source": [
        "tic = time.time()\n",
        "train_df = pd.read_pickle(path + 'data/train_z.pkl')\n",
        "\n",
        "print(f'Loaded in {time.time()-tic:.1f} sec')\n",
        "check_memory()"
      ],
      "execution_count": 5,
      "outputs": [
        {
          "output_type": "stream",
          "name": "stdout",
          "text": [
            "Loaded in 47.2 sec\n",
            "Available RAM:  23.6 GB    86.5%\n"
          ]
        }
      ]
    },
    {
      "cell_type": "code",
      "metadata": {
        "colab": {
          "base_uri": "https://localhost:8080/",
          "height": 243
        },
        "id": "E_N-0u2GJWAJ",
        "outputId": "7f2afdfd-c3a6-40cb-e550-2381f9a22663"
      },
      "source": [
        "print(train_df.shape)\n",
        "train_df.head()"
      ],
      "execution_count": 6,
      "outputs": [
        {
          "output_type": "stream",
          "name": "stdout",
          "text": [
            "(100230332, 11)\n"
          ]
        },
        {
          "output_type": "execute_result",
          "data": {
            "text/html": [
              "<div>\n",
              "<style scoped>\n",
              "    .dataframe tbody tr th:only-of-type {\n",
              "        vertical-align: middle;\n",
              "    }\n",
              "\n",
              "    .dataframe tbody tr th {\n",
              "        vertical-align: top;\n",
              "    }\n",
              "\n",
              "    .dataframe thead th {\n",
              "        text-align: right;\n",
              "    }\n",
              "</style>\n",
              "<table border=\"1\" class=\"dataframe\">\n",
              "  <thead>\n",
              "    <tr style=\"text-align: right;\">\n",
              "      <th></th>\n",
              "      <th>row_id</th>\n",
              "      <th>timestamp</th>\n",
              "      <th>user_id</th>\n",
              "      <th>content_id</th>\n",
              "      <th>content_type_id</th>\n",
              "      <th>task_container_id</th>\n",
              "      <th>user_answer</th>\n",
              "      <th>answered_correctly</th>\n",
              "      <th>prior_question_elapsed_time</th>\n",
              "      <th>prior_question_had_explanation</th>\n",
              "      <th>virtual_ts</th>\n",
              "    </tr>\n",
              "  </thead>\n",
              "  <tbody>\n",
              "    <tr>\n",
              "      <th>0</th>\n",
              "      <td>46</td>\n",
              "      <td>0</td>\n",
              "      <td>124</td>\n",
              "      <td>7900</td>\n",
              "      <td>0</td>\n",
              "      <td>0</td>\n",
              "      <td>0</td>\n",
              "      <td>1</td>\n",
              "      <td>NaN</td>\n",
              "      <td>&lt;NA&gt;</td>\n",
              "      <td>64972177101</td>\n",
              "    </tr>\n",
              "    <tr>\n",
              "      <th>1</th>\n",
              "      <td>47</td>\n",
              "      <td>32683</td>\n",
              "      <td>124</td>\n",
              "      <td>7876</td>\n",
              "      <td>0</td>\n",
              "      <td>1</td>\n",
              "      <td>0</td>\n",
              "      <td>0</td>\n",
              "      <td>26000.0</td>\n",
              "      <td>False</td>\n",
              "      <td>64972209784</td>\n",
              "    </tr>\n",
              "    <tr>\n",
              "      <th>2</th>\n",
              "      <td>48</td>\n",
              "      <td>62000</td>\n",
              "      <td>124</td>\n",
              "      <td>175</td>\n",
              "      <td>0</td>\n",
              "      <td>2</td>\n",
              "      <td>2</td>\n",
              "      <td>1</td>\n",
              "      <td>29000.0</td>\n",
              "      <td>False</td>\n",
              "      <td>64972239101</td>\n",
              "    </tr>\n",
              "    <tr>\n",
              "      <th>3</th>\n",
              "      <td>49</td>\n",
              "      <td>83632</td>\n",
              "      <td>124</td>\n",
              "      <td>1278</td>\n",
              "      <td>0</td>\n",
              "      <td>3</td>\n",
              "      <td>1</td>\n",
              "      <td>0</td>\n",
              "      <td>26000.0</td>\n",
              "      <td>False</td>\n",
              "      <td>64972260733</td>\n",
              "    </tr>\n",
              "    <tr>\n",
              "      <th>4</th>\n",
              "      <td>50</td>\n",
              "      <td>189483</td>\n",
              "      <td>124</td>\n",
              "      <td>2064</td>\n",
              "      <td>0</td>\n",
              "      <td>4</td>\n",
              "      <td>2</td>\n",
              "      <td>0</td>\n",
              "      <td>18000.0</td>\n",
              "      <td>False</td>\n",
              "      <td>64972366584</td>\n",
              "    </tr>\n",
              "  </tbody>\n",
              "</table>\n",
              "</div>"
            ],
            "text/plain": [
              "   row_id  timestamp  ...  prior_question_had_explanation   virtual_ts\n",
              "0      46          0  ...                            <NA>  64972177101\n",
              "1      47      32683  ...                           False  64972209784\n",
              "2      48      62000  ...                           False  64972239101\n",
              "3      49      83632  ...                           False  64972260733\n",
              "4      50     189483  ...                           False  64972366584\n",
              "\n",
              "[5 rows x 11 columns]"
            ]
          },
          "metadata": {},
          "execution_count": 6
        }
      ]
    },
    {
      "cell_type": "code",
      "metadata": {
        "id": "wK-18pJQDT-U"
      },
      "source": [
        "def process_df(df, remove_lectures=REMOVE_LECTURES):\n",
        "\n",
        "    df = df[['user_id','content_id','content_type_id','answered_correctly','timestamp']]\n",
        "    df = df.rename(columns={'content_id':'question_id', 'answered_correctly':'y_true'})\n",
        "\n",
        "    if remove_lectures:  df = df[df.content_type_id==0].drop('content_type_id',axis=1)\n",
        "    \n",
        "    user_total=[1 + np.arange(c) for c in df.user_id.value_counts().sort_index()]\n",
        "    df['user_total'] = np.concatenate(user_total)\n",
        "  \n",
        "    return df"
      ],
      "execution_count": 7,
      "outputs": []
    },
    {
      "cell_type": "code",
      "metadata": {
        "colab": {
          "base_uri": "https://localhost:8080/"
        },
        "id": "zrllgzE9HqXp",
        "outputId": "5b071239-07ab-4089-88e6-b2ac777238aa"
      },
      "source": [
        "tic=time.time()\n",
        "assert train_df.user_id.is_monotonic\n",
        "train_df = process_df(train_df)\n",
        "\n",
        "print(f'done in {time.time()-tic:.1f} sec')\n",
        "gc.collect()\n",
        "check_memory()"
      ],
      "execution_count": 8,
      "outputs": [
        {
          "output_type": "stream",
          "name": "stdout",
          "text": [
            "done in 8.6 sec\n",
            "Available RAM:  21.5 GB    78.5%\n"
          ]
        }
      ]
    },
    {
      "cell_type": "code",
      "metadata": {
        "colab": {
          "base_uri": "https://localhost:8080/",
          "height": 223
        },
        "id": "ad_V1_dF_Lxw",
        "outputId": "e22dcfa0-2891-4eb9-a3f3-5f36eb2912a3"
      },
      "source": [
        "print(train_df.shape)\n",
        "train_df.head()"
      ],
      "execution_count": 9,
      "outputs": [
        {
          "output_type": "stream",
          "name": "stdout",
          "text": [
            "(98288968, 5)\n"
          ]
        },
        {
          "output_type": "execute_result",
          "data": {
            "text/html": [
              "<div>\n",
              "<style scoped>\n",
              "    .dataframe tbody tr th:only-of-type {\n",
              "        vertical-align: middle;\n",
              "    }\n",
              "\n",
              "    .dataframe tbody tr th {\n",
              "        vertical-align: top;\n",
              "    }\n",
              "\n",
              "    .dataframe thead th {\n",
              "        text-align: right;\n",
              "    }\n",
              "</style>\n",
              "<table border=\"1\" class=\"dataframe\">\n",
              "  <thead>\n",
              "    <tr style=\"text-align: right;\">\n",
              "      <th></th>\n",
              "      <th>user_id</th>\n",
              "      <th>question_id</th>\n",
              "      <th>y_true</th>\n",
              "      <th>timestamp</th>\n",
              "      <th>user_total</th>\n",
              "    </tr>\n",
              "  </thead>\n",
              "  <tbody>\n",
              "    <tr>\n",
              "      <th>0</th>\n",
              "      <td>124</td>\n",
              "      <td>7900</td>\n",
              "      <td>1</td>\n",
              "      <td>0</td>\n",
              "      <td>1</td>\n",
              "    </tr>\n",
              "    <tr>\n",
              "      <th>1</th>\n",
              "      <td>124</td>\n",
              "      <td>7876</td>\n",
              "      <td>0</td>\n",
              "      <td>32683</td>\n",
              "      <td>2</td>\n",
              "    </tr>\n",
              "    <tr>\n",
              "      <th>2</th>\n",
              "      <td>124</td>\n",
              "      <td>175</td>\n",
              "      <td>1</td>\n",
              "      <td>62000</td>\n",
              "      <td>3</td>\n",
              "    </tr>\n",
              "    <tr>\n",
              "      <th>3</th>\n",
              "      <td>124</td>\n",
              "      <td>1278</td>\n",
              "      <td>0</td>\n",
              "      <td>83632</td>\n",
              "      <td>4</td>\n",
              "    </tr>\n",
              "    <tr>\n",
              "      <th>4</th>\n",
              "      <td>124</td>\n",
              "      <td>2064</td>\n",
              "      <td>0</td>\n",
              "      <td>189483</td>\n",
              "      <td>5</td>\n",
              "    </tr>\n",
              "  </tbody>\n",
              "</table>\n",
              "</div>"
            ],
            "text/plain": [
              "   user_id  question_id  y_true  timestamp  user_total\n",
              "0      124         7900       1          0           1\n",
              "1      124         7876       0      32683           2\n",
              "2      124          175       1      62000           3\n",
              "3      124         1278       0      83632           4\n",
              "4      124         2064       0     189483           5"
            ]
          },
          "metadata": {},
          "execution_count": 9
        }
      ]
    },
    {
      "cell_type": "code",
      "metadata": {
        "colab": {
          "base_uri": "https://localhost:8080/",
          "height": 282
        },
        "id": "2YQ-c-Go-g40",
        "outputId": "4c8bf805-635a-4f83-e48b-cbb83fa61537"
      },
      "source": [
        "vc = train_df.user_id.value_counts()\n",
        "plt.hist(vc[vc < 1000], bins=50)\n",
        "plt.title('total questions per user');"
      ],
      "execution_count": 10,
      "outputs": [
        {
          "output_type": "display_data",
          "data": {
            "image/png": "[encoded data removed]",
            "text/plain": [
              "<Figure size 432x288 with 1 Axes>"
            ]
          },
          "metadata": {}
        }
      ]
    },
    {
      "cell_type": "code",
      "metadata": {
        "id": "B3VdllKaDOI5",
        "colab": {
          "base_uri": "https://localhost:8080/"
        },
        "outputId": "a43f336d-065f-4da0-9f7b-deeaeaa0d3b6"
      },
      "source": [
        "def add_repeat_questions(df):\n",
        "    \"\"\"Adds 'repeat question' flag for each intercation.\n",
        "    \"\"\"\n",
        "    user_idx = np.cumsum(df.user_id.value_counts().sort_index().values)\n",
        "    split_qids = np.split(df.question_id.values, user_idx[:-1])\n",
        "\n",
        "    unique_users = df.user_id.nunique()\n",
        "    assert unique_users==len(split_qids)\n",
        "    \n",
        "    tic = time.time()\n",
        "    repeat = []\n",
        "    for user, arr in enumerate(split_qids):\n",
        "        rq = np.zeros_like(arr, dtype=int)\n",
        "        seen = set()\n",
        "        for i, el in enumerate(arr):\n",
        "            if el in seen: rq[i] = 1\n",
        "            seen.add(el)\n",
        "        repeat.append(rq)\n",
        "        print(f'\\rprocessed {100*user/unique_users:.1f}%   {time.time()-tic:.1f} sec',end='')        \n",
        "\n",
        "    df['repeat']=np.concatenate(repeat)\n",
        "    return df\n",
        "\n",
        "\n",
        "train_df = add_repeat_questions(train_df)"
      ],
      "execution_count": 11,
      "outputs": [
        {
          "output_type": "stream",
          "name": "stdout",
          "text": [
            "processed 100.0%   98.1 sec"
          ]
        }
      ]
    },
    {
      "cell_type": "code",
      "metadata": {
        "id": "3K4nbhA_G7U7",
        "colab": {
          "base_uri": "https://localhost:8080/",
          "height": 205
        },
        "outputId": "5fef4db9-1b6a-47b5-99e6-7ad26d54c7a7"
      },
      "source": [
        "train_df.head()"
      ],
      "execution_count": 12,
      "outputs": [
        {
          "output_type": "execute_result",
          "data": {
            "text/html": [
              "<div>\n",
              "<style scoped>\n",
              "    .dataframe tbody tr th:only-of-type {\n",
              "        vertical-align: middle;\n",
              "    }\n",
              "\n",
              "    .dataframe tbody tr th {\n",
              "        vertical-align: top;\n",
              "    }\n",
              "\n",
              "    .dataframe thead th {\n",
              "        text-align: right;\n",
              "    }\n",
              "</style>\n",
              "<table border=\"1\" class=\"dataframe\">\n",
              "  <thead>\n",
              "    <tr style=\"text-align: right;\">\n",
              "      <th></th>\n",
              "      <th>user_id</th>\n",
              "      <th>question_id</th>\n",
              "      <th>y_true</th>\n",
              "      <th>timestamp</th>\n",
              "      <th>user_total</th>\n",
              "      <th>repeat</th>\n",
              "    </tr>\n",
              "  </thead>\n",
              "  <tbody>\n",
              "    <tr>\n",
              "      <th>0</th>\n",
              "      <td>124</td>\n",
              "      <td>7900</td>\n",
              "      <td>1</td>\n",
              "      <td>0</td>\n",
              "      <td>1</td>\n",
              "      <td>0</td>\n",
              "    </tr>\n",
              "    <tr>\n",
              "      <th>1</th>\n",
              "      <td>124</td>\n",
              "      <td>7876</td>\n",
              "      <td>0</td>\n",
              "      <td>32683</td>\n",
              "      <td>2</td>\n",
              "      <td>0</td>\n",
              "    </tr>\n",
              "    <tr>\n",
              "      <th>2</th>\n",
              "      <td>124</td>\n",
              "      <td>175</td>\n",
              "      <td>1</td>\n",
              "      <td>62000</td>\n",
              "      <td>3</td>\n",
              "      <td>0</td>\n",
              "    </tr>\n",
              "    <tr>\n",
              "      <th>3</th>\n",
              "      <td>124</td>\n",
              "      <td>1278</td>\n",
              "      <td>0</td>\n",
              "      <td>83632</td>\n",
              "      <td>4</td>\n",
              "      <td>0</td>\n",
              "    </tr>\n",
              "    <tr>\n",
              "      <th>4</th>\n",
              "      <td>124</td>\n",
              "      <td>2064</td>\n",
              "      <td>0</td>\n",
              "      <td>189483</td>\n",
              "      <td>5</td>\n",
              "      <td>0</td>\n",
              "    </tr>\n",
              "  </tbody>\n",
              "</table>\n",
              "</div>"
            ],
            "text/plain": [
              "   user_id  question_id  y_true  timestamp  user_total  repeat\n",
              "0      124         7900       1          0           1       0\n",
              "1      124         7876       0      32683           2       0\n",
              "2      124          175       1      62000           3       0\n",
              "3      124         1278       0      83632           4       0\n",
              "4      124         2064       0     189483           5       0"
            ]
          },
          "metadata": {},
          "execution_count": 12
        }
      ]
    },
    {
      "cell_type": "code",
      "metadata": {
        "colab": {
          "base_uri": "https://localhost:8080/"
        },
        "id": "Ud6prPel0Wrg",
        "outputId": "b31ee0c4-3c69-48d5-e449-04a0206e5cea"
      },
      "source": [
        "print(f'% answered correctly: \\t{100*train_df.y_true.mean():.1f}%')\n",
        "print(f'% repeat questions: \\t{100*train_df.repeat.mean():.1f}%')"
      ],
      "execution_count": 13,
      "outputs": [
        {
          "output_type": "stream",
          "name": "stdout",
          "text": [
            "% answered correctly: \t65.7%\n",
            "% repeat questions: \t12.5%\n"
          ]
        }
      ]
    },
    {
      "cell_type": "code",
      "metadata": {
        "id": "kcTuBe73Fo2l"
      },
      "source": [
        "train_df.to_pickle(path+'data/train_6_features.pkl')"
      ],
      "execution_count": 14,
      "outputs": []
    },
    {
      "cell_type": "markdown",
      "metadata": {
        "id": "KKxYehCWH1Ew"
      },
      "source": [
        "Shortcut"
      ]
    },
    {
      "cell_type": "code",
      "metadata": {
        "id": "L5zwf-6DFnbh"
      },
      "source": [
        "train_df = pd.read_pickle(path+'data/train_6_features.pkl')"
      ],
      "execution_count": 15,
      "outputs": []
    },
    {
      "cell_type": "code",
      "metadata": {
        "colab": {
          "base_uri": "https://localhost:8080/",
          "height": 205
        },
        "id": "ZUbN0L4qd0aq",
        "outputId": "69d7efe0-727e-4096-d283-6111378ff3a7"
      },
      "source": [
        "train_df.head()"
      ],
      "execution_count": 16,
      "outputs": [
        {
          "output_type": "execute_result",
          "data": {
            "text/html": [
              "<div>\n",
              "<style scoped>\n",
              "    .dataframe tbody tr th:only-of-type {\n",
              "        vertical-align: middle;\n",
              "    }\n",
              "\n",
              "    .dataframe tbody tr th {\n",
              "        vertical-align: top;\n",
              "    }\n",
              "\n",
              "    .dataframe thead th {\n",
              "        text-align: right;\n",
              "    }\n",
              "</style>\n",
              "<table border=\"1\" class=\"dataframe\">\n",
              "  <thead>\n",
              "    <tr style=\"text-align: right;\">\n",
              "      <th></th>\n",
              "      <th>user_id</th>\n",
              "      <th>question_id</th>\n",
              "      <th>y_true</th>\n",
              "      <th>timestamp</th>\n",
              "      <th>user_total</th>\n",
              "      <th>repeat</th>\n",
              "    </tr>\n",
              "  </thead>\n",
              "  <tbody>\n",
              "    <tr>\n",
              "      <th>0</th>\n",
              "      <td>124</td>\n",
              "      <td>7900</td>\n",
              "      <td>1</td>\n",
              "      <td>0</td>\n",
              "      <td>1</td>\n",
              "      <td>0</td>\n",
              "    </tr>\n",
              "    <tr>\n",
              "      <th>1</th>\n",
              "      <td>124</td>\n",
              "      <td>7876</td>\n",
              "      <td>0</td>\n",
              "      <td>32683</td>\n",
              "      <td>2</td>\n",
              "      <td>0</td>\n",
              "    </tr>\n",
              "    <tr>\n",
              "      <th>2</th>\n",
              "      <td>124</td>\n",
              "      <td>175</td>\n",
              "      <td>1</td>\n",
              "      <td>62000</td>\n",
              "      <td>3</td>\n",
              "      <td>0</td>\n",
              "    </tr>\n",
              "    <tr>\n",
              "      <th>3</th>\n",
              "      <td>124</td>\n",
              "      <td>1278</td>\n",
              "      <td>0</td>\n",
              "      <td>83632</td>\n",
              "      <td>4</td>\n",
              "      <td>0</td>\n",
              "    </tr>\n",
              "    <tr>\n",
              "      <th>4</th>\n",
              "      <td>124</td>\n",
              "      <td>2064</td>\n",
              "      <td>0</td>\n",
              "      <td>189483</td>\n",
              "      <td>5</td>\n",
              "      <td>0</td>\n",
              "    </tr>\n",
              "  </tbody>\n",
              "</table>\n",
              "</div>"
            ],
            "text/plain": [
              "   user_id  question_id  y_true  timestamp  user_total  repeat\n",
              "0      124         7900       1          0           1       0\n",
              "1      124         7876       0      32683           2       0\n",
              "2      124          175       1      62000           3       0\n",
              "3      124         1278       0      83632           4       0\n",
              "4      124         2064       0     189483           5       0"
            ]
          },
          "metadata": {},
          "execution_count": 16
        }
      ]
    },
    {
      "cell_type": "code",
      "metadata": {
        "id": "ZmcMzRPiGfI_",
        "colab": {
          "base_uri": "https://localhost:8080/"
        },
        "outputId": "53cf3a66-a2dd-40c4-b969-7837aab05687"
      },
      "source": [
        "df_po = Positions(list(train_df.columns))\n",
        "\n",
        "df_po.user_id, df_po.question_id, df_po.repeat # verify"
      ],
      "execution_count": 17,
      "outputs": [
        {
          "output_type": "execute_result",
          "data": {
            "text/plain": [
              "(0, 1, 5)"
            ]
          },
          "metadata": {},
          "execution_count": 17
        }
      ]
    },
    {
      "cell_type": "markdown",
      "metadata": {
        "id": "k92EXZnuFx8U"
      },
      "source": [
        "### valid, questions"
      ]
    },
    {
      "cell_type": "code",
      "metadata": {
        "id": "1ARHkyqOGfMS"
      },
      "source": [
        "# OOS 1 M latest interactions\n",
        "valid_df = pd.read_pickle(path+'data/valid_z.pkl')"
      ],
      "execution_count": 18,
      "outputs": []
    },
    {
      "cell_type": "code",
      "metadata": {
        "colab": {
          "base_uri": "https://localhost:8080/",
          "height": 243
        },
        "id": "U7Jqexewn39f",
        "outputId": "41c945cc-ebe2-45ad-a7a3-6b44710ef5cd"
      },
      "source": [
        "print(valid_df.shape)\n",
        "valid_df.head()"
      ],
      "execution_count": 19,
      "outputs": [
        {
          "output_type": "stream",
          "name": "stdout",
          "text": [
            "(1000000, 11)\n"
          ]
        },
        {
          "output_type": "execute_result",
          "data": {
            "text/html": [
              "<div>\n",
              "<style scoped>\n",
              "    .dataframe tbody tr th:only-of-type {\n",
              "        vertical-align: middle;\n",
              "    }\n",
              "\n",
              "    .dataframe tbody tr th {\n",
              "        vertical-align: top;\n",
              "    }\n",
              "\n",
              "    .dataframe thead th {\n",
              "        text-align: right;\n",
              "    }\n",
              "</style>\n",
              "<table border=\"1\" class=\"dataframe\">\n",
              "  <thead>\n",
              "    <tr style=\"text-align: right;\">\n",
              "      <th></th>\n",
              "      <th>row_id</th>\n",
              "      <th>timestamp</th>\n",
              "      <th>user_id</th>\n",
              "      <th>content_id</th>\n",
              "      <th>content_type_id</th>\n",
              "      <th>task_container_id</th>\n",
              "      <th>user_answer</th>\n",
              "      <th>answered_correctly</th>\n",
              "      <th>prior_question_elapsed_time</th>\n",
              "      <th>prior_question_had_explanation</th>\n",
              "      <th>virtual_ts</th>\n",
              "    </tr>\n",
              "  </thead>\n",
              "  <tbody>\n",
              "    <tr>\n",
              "      <th>100230332</th>\n",
              "      <td>82709321</td>\n",
              "      <td>74222766693</td>\n",
              "      <td>1761102725</td>\n",
              "      <td>8608</td>\n",
              "      <td>0</td>\n",
              "      <td>449</td>\n",
              "      <td>3</td>\n",
              "      <td>1</td>\n",
              "      <td>17000.0</td>\n",
              "      <td>True</td>\n",
              "      <td>84671806026</td>\n",
              "    </tr>\n",
              "    <tr>\n",
              "      <th>100230333</th>\n",
              "      <td>9037236</td>\n",
              "      <td>882114880</td>\n",
              "      <td>196648614</td>\n",
              "      <td>837</td>\n",
              "      <td>0</td>\n",
              "      <td>157</td>\n",
              "      <td>3</td>\n",
              "      <td>1</td>\n",
              "      <td>18000.0</td>\n",
              "      <td>True</td>\n",
              "      <td>84671806601</td>\n",
              "    </tr>\n",
              "    <tr>\n",
              "      <th>100230334</th>\n",
              "      <td>53897867</td>\n",
              "      <td>19913</td>\n",
              "      <td>1142830055</td>\n",
              "      <td>7876</td>\n",
              "      <td>0</td>\n",
              "      <td>1</td>\n",
              "      <td>3</td>\n",
              "      <td>1</td>\n",
              "      <td>15000.0</td>\n",
              "      <td>False</td>\n",
              "      <td>84671811211</td>\n",
              "    </tr>\n",
              "    <tr>\n",
              "      <th>100230335</th>\n",
              "      <td>101147865</td>\n",
              "      <td>2528934977</td>\n",
              "      <td>2146039389</td>\n",
              "      <td>6422</td>\n",
              "      <td>0</td>\n",
              "      <td>423</td>\n",
              "      <td>3</td>\n",
              "      <td>1</td>\n",
              "      <td>14000.0</td>\n",
              "      <td>True</td>\n",
              "      <td>84671812525</td>\n",
              "    </tr>\n",
              "    <tr>\n",
              "      <th>100230336</th>\n",
              "      <td>19504563</td>\n",
              "      <td>361898252</td>\n",
              "      <td>419295431</td>\n",
              "      <td>1087</td>\n",
              "      <td>0</td>\n",
              "      <td>140</td>\n",
              "      <td>3</td>\n",
              "      <td>0</td>\n",
              "      <td>17000.0</td>\n",
              "      <td>True</td>\n",
              "      <td>84671816665</td>\n",
              "    </tr>\n",
              "  </tbody>\n",
              "</table>\n",
              "</div>"
            ],
            "text/plain": [
              "              row_id    timestamp  ...  prior_question_had_explanation   virtual_ts\n",
              "100230332   82709321  74222766693  ...                            True  84671806026\n",
              "100230333    9037236    882114880  ...                            True  84671806601\n",
              "100230334   53897867        19913  ...                           False  84671811211\n",
              "100230335  101147865   2528934977  ...                            True  84671812525\n",
              "100230336   19504563    361898252  ...                            True  84671816665\n",
              "\n",
              "[5 rows x 11 columns]"
            ]
          },
          "metadata": {},
          "execution_count": 19
        }
      ]
    },
    {
      "cell_type": "code",
      "metadata": {
        "colab": {
          "base_uri": "https://localhost:8080/",
          "height": 115
        },
        "id": "qMARgEaDtYYn",
        "outputId": "0b4963cd-b4f9-4f73-e3cd-f951c71fe676"
      },
      "source": [
        "question_df = pd.read_csv(path + 'data/questions_enhanced.csv')\n",
        "question_df['section'] = (question_df.part > 4).astype(int)  # Listening = 0,   Reading = 1\n",
        "\n",
        "SECTIONS_DICT = {k: v for k, v in zip(question_df.question_id, question_df.section)}\n",
        "PARTS_DICT = {k: v for k, v in zip(question_df.question_id, question_df.part)}\n",
        "\n",
        "print(question_df.shape)\n",
        "question_df.head(1)"
      ],
      "execution_count": 20,
      "outputs": [
        {
          "output_type": "stream",
          "name": "stdout",
          "text": [
            "(13523, 16)\n"
          ]
        },
        {
          "output_type": "execute_result",
          "data": {
            "text/html": [
              "<div>\n",
              "<style scoped>\n",
              "    .dataframe tbody tr th:only-of-type {\n",
              "        vertical-align: middle;\n",
              "    }\n",
              "\n",
              "    .dataframe tbody tr th {\n",
              "        vertical-align: top;\n",
              "    }\n",
              "\n",
              "    .dataframe thead th {\n",
              "        text-align: right;\n",
              "    }\n",
              "</style>\n",
              "<table border=\"1\" class=\"dataframe\">\n",
              "  <thead>\n",
              "    <tr style=\"text-align: right;\">\n",
              "      <th></th>\n",
              "      <th>question_id</th>\n",
              "      <th>bundle_id</th>\n",
              "      <th>correct_answer</th>\n",
              "      <th>part</th>\n",
              "      <th>tags</th>\n",
              "      <th>Wrong</th>\n",
              "      <th>Right</th>\n",
              "      <th>pct_question</th>\n",
              "      <th>n_tags</th>\n",
              "      <th>t1</th>\n",
              "      <th>t2</th>\n",
              "      <th>t3</th>\n",
              "      <th>t4</th>\n",
              "      <th>t5</th>\n",
              "      <th>t6</th>\n",
              "      <th>section</th>\n",
              "    </tr>\n",
              "  </thead>\n",
              "  <tbody>\n",
              "    <tr>\n",
              "      <th>0</th>\n",
              "      <td>0</td>\n",
              "      <td>0</td>\n",
              "      <td>0</td>\n",
              "      <td>1</td>\n",
              "      <td>51 131 162 38</td>\n",
              "      <td>637</td>\n",
              "      <td>6266</td>\n",
              "      <td>0.907721</td>\n",
              "      <td>4</td>\n",
              "      <td>51</td>\n",
              "      <td>131</td>\n",
              "      <td>162</td>\n",
              "      <td>38</td>\n",
              "      <td>0</td>\n",
              "      <td>0</td>\n",
              "      <td>0</td>\n",
              "    </tr>\n",
              "  </tbody>\n",
              "</table>\n",
              "</div>"
            ],
            "text/plain": [
              "   question_id  bundle_id  correct_answer  part  ...  t4  t5  t6  section\n",
              "0            0          0               0     1  ...  38   0   0        0\n",
              "\n",
              "[1 rows x 16 columns]"
            ]
          },
          "metadata": {},
          "execution_count": 20
        }
      ]
    },
    {
      "cell_type": "code",
      "metadata": {
        "colab": {
          "base_uri": "https://localhost:8080/",
          "height": 282
        },
        "id": "QRs8M8Ju7BHc",
        "outputId": "9ae26a28-b5d9-4de6-8430-cb81149373c7"
      },
      "source": [
        "plt.hist(question_df.pct_question, bins=50)\n",
        "plt.title('question difficulty (% of correct answers)');"
      ],
      "execution_count": 21,
      "outputs": [
        {
          "output_type": "display_data",
          "data": {
            "image/png": "[encoded data removed]",
            "text/plain": [
              "<Figure size 432x288 with 1 Axes>"
            ]
          },
          "metadata": {}
        }
      ]
    },
    {
      "cell_type": "code",
      "metadata": {
        "colab": {
          "base_uri": "https://localhost:8080/"
        },
        "id": "Q3UEjV_5qAvK",
        "outputId": "29b00729-f020-43ef-fae7-f212bcc7ffc8"
      },
      "source": [
        "# QCP_HIST: an array of question difficulty [question_id, history_bin]\n",
        "QCP_HIST = pd.read_csv(path + 'data/qcp_hist.csv')\n",
        "QCP_HIST = QCP_HIST.values\n",
        "print(QCP_HIST.shape)"
      ],
      "execution_count": 22,
      "outputs": [
        {
          "output_type": "stream",
          "name": "stdout",
          "text": [
            "(13523, 21)\n"
          ]
        }
      ]
    },
    {
      "cell_type": "code",
      "metadata": {
        "colab": {
          "base_uri": "https://localhost:8080/"
        },
        "id": "EiAoTxyGGfGX",
        "outputId": "b2fe6dc1-a390-4d2a-dc58-1c70b6d1e9e4"
      },
      "source": [
        "check_memory()"
      ],
      "execution_count": 23,
      "outputs": [
        {
          "output_type": "stream",
          "name": "stdout",
          "text": [
            "Available RAM:  14.3 GB    52.4%\n"
          ]
        }
      ]
    },
    {
      "cell_type": "markdown",
      "metadata": {
        "id": "HKAooZkjoDSV"
      },
      "source": [
        "### dataset"
      ]
    },
    {
      "cell_type": "code",
      "metadata": {
        "colab": {
          "base_uri": "https://localhost:8080/"
        },
        "id": "x3CDi3qaAODC",
        "outputId": "6090b6c1-a89a-480d-cd01-6993357cb599"
      },
      "source": [
        "ds_features = ['question_id', 'repeat', 'lag', 'qcp', 'y_roll', 'y_true']\n",
        "\n",
        "ds_po = Positions(ds_features)\n",
        "\n",
        "F_WIDTH = len(ds_features)  # width of the transformer input\n",
        "print(f'F_WIDTH: {F_WIDTH}')"
      ],
      "execution_count": 24,
      "outputs": [
        {
          "output_type": "stream",
          "name": "stdout",
          "text": [
            "F_WIDTH: 6\n"
          ]
        }
      ]
    },
    {
      "cell_type": "code",
      "metadata": {
        "id": "-ZJzpSEwN2Pd"
      },
      "source": [
        "def prepare_features(arr, \n",
        "                     po=df_po, \n",
        "                     lag_bins=LAG_BINS, \n",
        "                     hist_bins=HIST_BINS, \n",
        "                     n_q=N_QUESTIONS, \n",
        "                     qcp_hist=QCP_HIST):\n",
        "    \n",
        "    # df_po:  user_id\tquestion_id\ty_true\ttimestamp\tuser_total\trepeat\n",
        "\n",
        "    question_id = arr[:,po.question_id]\n",
        "    repeat      = arr[:,po.repeat]\n",
        "\n",
        "    lag = arr[:,po.timestamp] - np.roll(arr[:, po.timestamp], shift=1, axis=0)\n",
        "    lag = np.digitize(lag/1_000, lag_bins)\n",
        "\n",
        "    history = np.digitize(arr[:, po.user_total], hist_bins)\n",
        "\n",
        "    qcp = np.array([qcp_hist[int(q), int(h)] for q, h in zip(question_id, history)])\n",
        "\n",
        "    #replace question #0 with N_Q (for 0-based masking purposes)\n",
        "    question_id[question_id == 0] = n_q  \n",
        "    \n",
        "    y_true   = arr[:,po.y_true]\n",
        "    y_roll   = np.roll(y_true, shift=1, axis=0)\n",
        "    y_roll[0]=1\n",
        "    \n",
        "    # ds_features = ['question_id', 'lag', 'qcp', 'y_roll', 'y_true']\n",
        "    arr = np.concatenate([question_id.reshape(-1, 1),\n",
        "                          repeat     .reshape(-1, 1),\n",
        "                          lag        .reshape(-1, 1),\n",
        "                          qcp        .reshape(-1, 1),\n",
        "                          y_roll     .reshape(-1, 1),\n",
        "                          y_true     .reshape(-1, 1),\n",
        "                          ], axis=1)\n",
        "    assert arr.ndim==2\n",
        "    return arr.astype(np.float32)\n",
        "\n",
        "\n",
        "def windowed_arr(arr, window, step):\n",
        "    \"\"\"Produces a windowed 3D array from a flat 2D array.\n",
        "       (same as tf.dataset.window)\n",
        "    \"\"\"\n",
        "    output = [] \n",
        "    for i in range((arr.shape[0] - 1) // step + 1): # number of overlapping windows\n",
        "        w = arr[-i * step - window : arr.shape[0] - i * step]\n",
        "        w = np.pad(w, ((0,window - w.shape[0]),(0, 0)))\n",
        "        w = np.expand_dims(w, axis=0)\n",
        "        output.append(w)\n",
        "    \n",
        "    if len(output) == 1: \n",
        "        output = output[0]\n",
        "    else:\n",
        "        output = np.concatenate(output)\n",
        "\n",
        "    assert output.ndim == 3\n",
        "    return output.astype(np.float32) \n",
        "\n",
        "\n",
        "def get_last_t(el):\n",
        "    \"\"\"Identifies number of meaningful (non-zero) elements in the batch.\n",
        "    Args: \n",
        "        el: (batch, seq, features) \n",
        "    Returns:\n",
        "        last_t: scalar number of non-zero elements\n",
        "    \"\"\"    \n",
        "    nonzeros = tf.cast(tf.math.not_equal(el[:, :, 0], 0), tf.int32)\n",
        "    last_t = tf.math.reduce_sum(nonzeros, axis=-1) - 1\n",
        "    return last_t \n",
        "\n",
        "\n",
        "def shuffle_feature(arr, pos):\n",
        "    # for permutation f.i.\n",
        "    f_slice = arr[:,:,pos].copy()\n",
        "    f_shuffled = f_slice.reshape(-1)\n",
        "    np.random.shuffle(f_shuffled)\n",
        "    arr[:,:,pos] = f_shuffled.reshape(f_slice.shape)\n",
        "    return arr\n"
      ],
      "execution_count": 25,
      "outputs": []
    },
    {
      "cell_type": "code",
      "metadata": {
        "colab": {
          "base_uri": "https://localhost:8080/"
        },
        "id": "TsMo-UAlqfj0",
        "outputId": "1db4cebf-3da7-467e-d66b-19bd262168ab"
      },
      "source": [
        "tic = time.time()\n",
        "wf = []\n",
        "\n",
        "user_idx = np.cumsum(train_df.user_id.value_counts().sort_index().values)\n",
        "user_idx = np.concatenate([[0], user_idx])\n",
        "unique_users = train_df.user_id.nunique()\n",
        "\n",
        "assert unique_users == len(user_idx) - 1\n",
        "\n",
        "for i in range(unique_users):\n",
        "\n",
        "    features = train_df[user_idx[i]:user_idx[i+1]].values.astype(np.float32)\n",
        "\n",
        "    features = prepare_features(features)\n",
        "    features = windowed_arr(features, WINDOW, STEP)\n",
        "\n",
        "    wf.append(features)\n",
        "    \n",
        "    if (i + 1) % 10 == 0: \n",
        "        print(f'\\rprocessed {100*i/unique_users:.1f}%  {time.time()-tic:.1f} sec', end='')\n",
        "\n",
        "wf = np.concatenate(wf)\n",
        "\n",
        "n_samples = wf.shape[0]\n",
        "assert wf.shape[-1]==F_WIDTH\n",
        "\n",
        "print(f'\\nFeatures: {wf.shape}')\n",
        "print(f'\\nTotal samples: {n_samples:,}')"
      ],
      "execution_count": 26,
      "outputs": [
        {
          "output_type": "stream",
          "name": "stdout",
          "text": [
            "processed 100.0%  394.5 sec\n",
            "Features: (1255455, 128, 6)\n",
            "\n",
            "Total samples: 1,255,455\n"
          ]
        }
      ]
    },
    {
      "cell_type": "code",
      "metadata": {
        "colab": {
          "base_uri": "https://localhost:8080/"
        },
        "id": "sqPUogZ9FTX9",
        "outputId": "61432c08-0ab8-4481-b81f-34e96721badf"
      },
      "source": [
        "print(f'{sys.getsizeof(wf):,}')\n",
        "wf = tf.cast(wf, tf.float32)"
      ],
      "execution_count": 27,
      "outputs": [
        {
          "output_type": "stream",
          "name": "stdout",
          "text": [
            "3,856,757,888\n"
          ]
        }
      ]
    },
    {
      "cell_type": "code",
      "metadata": {
        "colab": {
          "base_uri": "https://localhost:8080/"
        },
        "id": "s0nTLHZgtJM8",
        "outputId": "cb8d0cca-c34b-455a-f75b-7b1df091e719"
      },
      "source": [
        "ds = tf.data.Dataset.from_tensor_slices(wf)\n",
        "ds = ds.shuffle(n_samples)  # buffer size: the entire dataset\n",
        "ds = ds.batch(BATCH_SIZE, drop_remainder=True)\n",
        "\n",
        "# del wf\n",
        "# gc.collect()\n",
        "check_memory()"
      ],
      "execution_count": 28,
      "outputs": [
        {
          "output_type": "stream",
          "name": "stdout",
          "text": [
            "Available RAM:  10.2 GB    37.2%\n"
          ]
        }
      ]
    },
    {
      "cell_type": "code",
      "metadata": {
        "colab": {
          "base_uri": "https://localhost:8080/"
        },
        "id": "lMVBjawWh4aO",
        "outputId": "c7e0ecf3-8bce-4173-faaa-48bb27370209"
      },
      "source": [
        "print(ds.element_spec)"
      ],
      "execution_count": 29,
      "outputs": [
        {
          "output_type": "stream",
          "name": "stdout",
          "text": [
            "TensorSpec(shape=(64, 128, 6), dtype=tf.float32, name=None)\n"
          ]
        }
      ]
    },
    {
      "cell_type": "code",
      "metadata": {
        "colab": {
          "base_uri": "https://localhost:8080/"
        },
        "id": "-5RRuXBWistA",
        "outputId": "61904c7f-0c4c-491e-8abe-f9a13770718e"
      },
      "source": [
        "VAL_BATCHES = 100\n",
        "\n",
        "train_ds = ds.skip(VAL_BATCHES)\n",
        "val_ds   = ds.take(VAL_BATCHES)\n",
        "\n",
        "train_batches = n_samples//BATCH_SIZE - VAL_BATCHES\n",
        "print(f'Train batches: {train_batches:,}')\n",
        "print(f'Valid batches: {VAL_BATCHES:,}')"
      ],
      "execution_count": 30,
      "outputs": [
        {
          "output_type": "stream",
          "name": "stdout",
          "text": [
            "Train batches: 19,516\n",
            "Valid batches: 100\n"
          ]
        }
      ]
    },
    {
      "cell_type": "code",
      "metadata": {
        "colab": {
          "base_uri": "https://localhost:8080/"
        },
        "id": "m7TCT9Ss5tqi",
        "outputId": "05761aeb-b569-4563-d0e4-6ca13c3223c4"
      },
      "source": [
        "print(f'{time.time()-TIC:.1f} sec')"
      ],
      "execution_count": 31,
      "outputs": [
        {
          "output_type": "stream",
          "name": "stdout",
          "text": [
            "649.2 sec\n"
          ]
        }
      ]
    },
    {
      "cell_type": "markdown",
      "metadata": {
        "id": "tAjfVwbCJxgp"
      },
      "source": [
        "## Transformer"
      ]
    },
    {
      "cell_type": "code",
      "metadata": {
        "colab": {
          "base_uri": "https://localhost:8080/",
          "height": 299
        },
        "id": "BjYSm_8nSoSD",
        "outputId": "f1cabc19-3093-4077-a58b-be80cff9c991"
      },
      "source": [
        "def positional_encoding(seq_len=WINDOW, d_pos=16, min_rate=1e-2):\n",
        "    angle_rates = min_rate**(np.linspace(0,1,int(d_pos)))\n",
        "    # cartesian position * angle_rates\n",
        "    angles = np.arange(seq_len)[:, np.newaxis] * angle_rates[np.newaxis, :]  \n",
        "    return tf.cast(np.sin(angles), dtype=D_TYPE)\n",
        "\n",
        "plt.figure(figsize=(12,4))\n",
        "plt.pcolormesh(positional_encoding(), cmap='Spectral')\n",
        "plt.title(f'Positional encoding. Shape: {tf.shape(positional_encoding())}') \n",
        "plt.xlabel('d_model'); plt.ylabel('seq position'); plt.colorbar(); plt.show()"
      ],
      "execution_count": 32,
      "outputs": [
        {
          "output_type": "display_data",
          "data": {
            "image/png": "[encoded data removed]",
            "text/plain": [
              "<Figure size 864x288 with 2 Axes>"
            ]
          },
          "metadata": {}
        }
      ]
    },
    {
      "cell_type": "code",
      "metadata": {
        "id": "E4RBuNJFJxdT"
      },
      "source": [
        "def decoder_mask(seq):\n",
        "    padding_mask = tf.cast(tf.math.equal(seq, 0), D_TYPE)[:, tf.newaxis, tf.newaxis, :]\n",
        "    seq_len = tf.shape(seq)[-1]\n",
        "    look_ahead_mask = 1 - tf.linalg.band_part(tf.ones((seq_len, seq_len), dtype=D_TYPE), -1, 0)\n",
        "    return tf.maximum(padding_mask, look_ahead_mask)\n",
        "\n",
        "def QKV_attention(Q, K, V, mask):\n",
        "    QK = tf.matmul(Q, K, transpose_b=True) \n",
        "    scaled_QK = QK / tf.math.sqrt( tf.cast(tf.shape(K)[-1], dtype=D_TYPE) )\n",
        "    scaled_QK = scaled_QK + mask*-1e9\n",
        "    attn_weights = tf.nn.softmax(scaled_QK, axis=-1)\n",
        "    attn_output = tf.matmul(attn_weights, V)\n",
        "    return attn_output\n",
        "\n",
        "class MHA(tf.keras.layers.Layer):\n",
        "    def __init__(self, d_model, n_heads):\n",
        "        super().__init__()\n",
        "        assert d_model%n_heads==0\n",
        "        self.n_heads = n_heads\n",
        "        self.d_model = d_model\n",
        "        self.d_head  = tf.cast(d_model/n_heads, tf.int32)  \n",
        "        # Linear fully-coonected projection layers Z->QKV\n",
        "        self.linear_q = Dense(d_model)\n",
        "        self.linear_k = Dense(d_model)\n",
        "        self.linear_v = Dense(d_model)\n",
        "        # Final linear layer that links concatenated heads to the d_model-dimensional output\n",
        "        self.linear_output = Dense(d_model)\n",
        "        \n",
        "    def call(self, Q, K, V, mask):\n",
        "        batch_size =  tf.shape(Q)[0]\n",
        "        Q = self.linear_q(Q)  # (batch_size, seq_len_q, d_model)\n",
        "        K = self.linear_k(K)  # (batch_size, seq_len, d_model)\n",
        "        V = self.linear_v(V)  # (batch_size, seq_len, d_model)\n",
        "        # Split d_model into heads:  (batch_size, seq_len_q, num_heads, d_head)\n",
        "        Q = tf.reshape(Q, (batch_size, -1, self.n_heads, self.d_head))\n",
        "        K = tf.reshape(K, (batch_size, -1, self.n_heads, self.d_head))\n",
        "        V = tf.reshape(V, (batch_size, -1, self.n_heads, self.d_head))\n",
        "        # QKV_attention needs seq_len in the -2 position: (batch_size, num_heads, seq_len, d_head)\n",
        "        Q = tf.transpose(Q, perm=[0, 2, 1, 3])\n",
        "        K = tf.transpose(K, perm=[0, 2, 1, 3])\n",
        "        V = tf.transpose(V, perm=[0, 2, 1, 3])\n",
        "        # apply QKV_attention to each head. (batch_size, num_heads, seq_len_q, d_head)\n",
        "        output = QKV_attention(Q, K, V, mask)\n",
        "        # Bring num_heads into penultimate position and concatenate back to get num_heads * d_head = d_model\n",
        "        output = tf.transpose(output, perm=[0, 2, 1, 3])            # (batch_size, seq_len_q, num_heads, d_head)\n",
        "        output = tf.reshape(output, (batch_size, -1, self.d_model)) # (batch_size, seq_len_q, d_model)\n",
        "        output = self.linear_output(output)  # (batch_size, seq_len_q, d_model)\n",
        "        return output    \n",
        "\n",
        "class EncoderLayer(tf.keras.layers.Layer):\n",
        "    def __init__(self, d_model, n_heads, dff, dropout_rate): \n",
        "        super().__init__()\n",
        "\n",
        "        self.mha = MHA(d_model, n_heads)\n",
        "        self.dense_relu = Dense(dff, activation='relu')\n",
        "        self.linear = Dense(d_model)\n",
        "        \n",
        "        # dropout to be implemented before adding residual and normalization\n",
        "        self.dropout1 = Dropout(dropout_rate)\n",
        "        self.dropout2 = Dropout(dropout_rate)\n",
        "\n",
        "        # Layer Norm. -- normalize activations across features (d_model) within each x\n",
        "        # A functional transpose of the Batch Norm, which normalizes each feature across all x in a batch\n",
        "        # By deafault, applied to last dimension of the tensor. Epsilon is added to the variance to avoid dividing by 0.\n",
        "        self.layernorm1 = LayerNormalization(epsilon=1e-6)\n",
        "        self.layernorm2 = LayerNormalization(epsilon=1e-6)\n",
        "    \n",
        "    def call(self, x, mask, training):\n",
        "\n",
        "        # Encoder self-attention uses the same input x for Q, K, V\n",
        "        # All steps produce the same output shape  (batch_size, seq_len, d_model)\n",
        "        self_attn = self.mha(x, x, x, mask)\n",
        "\n",
        "        # Dropout training: True in training mode (w/ dropout), False in inference mode (no dropout)\n",
        "        self_attn = self.dropout1(self_attn, training=training) \n",
        "        self_attn = self.layernorm1(self_attn + x)  # add residual connection and normalize\n",
        "        \n",
        "        # feed-forward part - first expanding to DFF, then brining back to D_MODEL\n",
        "        output = self.dense_relu(self_attn)\n",
        "        output = self.linear(output)\n",
        "\n",
        "        output = self.dropout2(output, training=training) \n",
        "        output = self.layernorm2(output + self_attn)  # add residual connection and normalize\n",
        "        \n",
        "        return output  # shape=(batch_size, seq_len, d_model)\n",
        "\n",
        "class DecoderLayer(tf.keras.layers.Layer):\n",
        "    def __init__(self, d_model, n_heads, dff, dropout_rate):\n",
        "        super().__init__()\n",
        "\n",
        "        self.mha1 = MHA(d_model, n_heads)\n",
        "        self.mha2 = MHA(d_model, n_heads)\n",
        "\n",
        "        self.dense_relu = Dense(dff, activation='relu')\n",
        "        self.linear = Dense(d_model)\n",
        "\n",
        "        self.dropout1 = Dropout(dropout_rate)\n",
        "        self.dropout2 = Dropout(dropout_rate)\n",
        "        self.dropout3 = Dropout(dropout_rate)\n",
        "\n",
        "        self.layernorm1 = LayerNormalization(epsilon=1e-6)\n",
        "        self.layernorm2 = LayerNormalization(epsilon=1e-6)\n",
        "        self.layernorm3 = LayerNormalization(epsilon=1e-6)\n",
        "        \n",
        "    def call(self, x, enc_output, mask, training):\n",
        "        # All steps produce the same output shape  (batch_size, target_seq_len, d_model)\n",
        "        # cross_attn uses enc_output (batch_size, input_seq_len, d_model)\n",
        "\n",
        "        self_attn = self.mha1(x, x, x, mask)  # \n",
        "        self_attn = self.dropout1(self_attn, training=training)\n",
        "        self_attn = self.layernorm1(self_attn + x)\n",
        "        \n",
        "        # Q, K, V order for cross_attn inputs: only Q comes from within the decoder\n",
        "        cross_attn = self.mha2(self_attn, enc_output, enc_output, mask)\n",
        "        cross_attn = self.dropout2(cross_attn, training=training)\n",
        "        cross_attn = self.layernorm2(cross_attn + self_attn)\n",
        "        \n",
        "        # feed-forward part - first expanding to DFF, then brining back to D_MODEL\n",
        "        output = self.dense_relu(cross_attn)\n",
        "        output = self.linear(output)\n",
        "        \n",
        "        output = self.dropout3(output, training=training) \n",
        "        output = self.layernorm3(output + cross_attn)  # add residual connection and normalize\n",
        "        \n",
        "        return output\n",
        "\n",
        "class Encoder(tf.keras.layers.Layer):\n",
        "    def __init__(self, window, n_layers, d_model, n_heads, dff, dropout_rate,\n",
        "                 n_questions, n_lagbins, n_histbins, po):\n",
        "        super().__init__()\n",
        "        self.n_layers = n_layers\n",
        "\n",
        "        self.dropout = Dropout(dropout_rate)        \n",
        "        self.enc_layers = [EncoderLayer(d_model, n_heads, dff, dropout_rate) for _ in range(n_layers)]\n",
        "\n",
        "    def call(self, x, mask, training):\n",
        "\n",
        "        x = self.dropout(x, training=training)\n",
        "\n",
        "        for i in range(self.n_layers):  \n",
        "            x = self.enc_layers[i](x, mask, training)\n",
        "\n",
        "        return x  # (batch_size, seq_len, d_model)\n",
        "\n",
        "\n",
        "class Decoder(tf.keras.layers.Layer):\n",
        "    def __init__(self, \n",
        "                 window, n_layers, d_model, n_heads, dff, dropout_rate,\n",
        "                 n_questions, n_lagbins, n_histbins, po):\n",
        "        super().__init__()\n",
        "\n",
        "        self.n_layers = n_layers\n",
        "        self.dropout = Dropout(dropout_rate)        \n",
        "        self.dec_layers = [DecoderLayer(d_model, n_heads, dff, dropout_rate) for _ in range(n_layers)]\n",
        "       \n",
        "    def call(self, x, enc_output, mask, training):\n",
        "\n",
        "        x = self.dropout(x, training=training)\n",
        "\n",
        "        for i in range(self.n_layers):  \n",
        "            x = self.dec_layers[i](x, enc_output, mask, training)\n",
        "\n",
        "        return x # (batch_size, seq_len, d_model)        \n",
        "\n",
        "\n",
        "class Transformer(tf.keras.Model):\n",
        "\n",
        "    def __init__(self, \n",
        "                 window, n_layers, d_model, n_heads, dff, dropout_rate,\n",
        "                 n_questions, n_lagbins, n_histbins, po):\n",
        "        \"\"\" Intitializes the embedding layers, Encoder, Decoder, final sigmoid output.\n",
        "\n",
        "            Make room for vacant_depth, part of d_model which is\n",
        "                - NOT used by question embedding\n",
        "                - instead, used for concatenating the other variables\n",
        "            E.g. vacant_depth = 7 to make room for:\n",
        "            - lag, embedding dims=4\n",
        "            - repeat, qcp, y_roll, each with dims=1\n",
        "        \"\"\"\n",
        "        super().__init__()\n",
        "        self.window = window\n",
        "        self.d_model  = d_model\n",
        "        self.po = po\n",
        "\n",
        "        self.vacant_depth = 7\n",
        "\n",
        "        self.emb = Embedding(n_questions+1, self.d_model-self.vacant_depth, mask_zero=True)  \n",
        "        self.emb_lag = Embedding(n_lagbins+1, 4)\n",
        "\n",
        "        self.encoder = Encoder(window, n_layers, d_model, n_heads, dff, dropout_rate,\n",
        "                               n_questions, n_lagbins, n_histbins, po)\n",
        "        self.decoder = Decoder(window, n_layers, d_model, n_heads, dff, dropout_rate,\n",
        "                               n_questions, n_lagbins, n_histbins, po)\n",
        "        self.final_sigmoid = Dense(1, activation='sigmoid')\n",
        "\n",
        "        \n",
        "    def call(self, batch, training):\n",
        "\n",
        "        batch = tf.cast(batch, tf.float32)\n",
        "        \n",
        "        # MAKE SURE FEATURE 0 DOES NOT HAVE ZEROS EXCEPT FOR PADDING:\n",
        "        mask = decoder_mask(batch[:,:,0])  \n",
        "\n",
        "        question_id = batch[:,:, self.po.question_id]\n",
        "        question_id = self.emb(question_id)  \n",
        "        \n",
        "        pos = positional_encoding(d_pos=self.d_model-self.vacant_depth)\n",
        "        question_id = question_id + pos\n",
        "\n",
        "        lag = batch[:,:, self.po.lag]   \n",
        "        lag = self.emb_lag(lag) \n",
        "\n",
        "        # repeat, qcp, y_roll -- scalars\n",
        "        repeat = batch[:,:, self.po.repeat]\n",
        "        repeat = tf.expand_dims(repeat, axis=2) # (batch_size, seq_len, 1)\n",
        "\n",
        "        qcp = batch[:,:, self.po.qcp]\n",
        "        qcp = tf.expand_dims(qcp, axis=2)   # (batch_size, seq_len, 1)\n",
        "\n",
        "        y_roll = batch[:,:, self.po.y_roll]\n",
        "        y_roll = tf.expand_dims(y_roll, axis=2)   # (batch_size, seq_len, 1)\n",
        "        \n",
        "        x = tf.concat([question_id, lag, repeat, qcp, y_roll], axis=2)\n",
        "\n",
        "        enc_output = self.encoder(x, mask, training)  # (batch_size, inp_seq_len, d_model)\n",
        "        dec_output = self.decoder(x, enc_output, mask, training) # (batch_size, tar_seq_len, d_model)\n",
        "        output = self.final_sigmoid(dec_output)\n",
        "\n",
        "        return   tf.squeeze(output)  # (batch_size, tar_seq_len)\n"
      ],
      "execution_count": 33,
      "outputs": []
    },
    {
      "cell_type": "code",
      "metadata": {
        "colab": {
          "base_uri": "https://localhost:8080/"
        },
        "id": "QtZagkU5ob-l",
        "outputId": "a2fe6d7f-cfb9-4ccb-800b-1e891eeaaedc"
      },
      "source": [
        "# Verify comp.graph\n",
        "trans_temp = Transformer(WINDOW, N_LAYERS, D_MODEL, N_HEADS, DFF, DROPOUT, \n",
        "                         N_QUESTIONS, N_LAGBINS, N_HISTBINS, ds_po) \n",
        "\n",
        "x = tf.random.uniform((BATCH_SIZE, WINDOW, F_WIDTH))  # (batch, seq, features)\n",
        "trans_out = trans_temp(x, training=False)\n",
        "print('Transformer output:', trans_out.shape)\n",
        "\n",
        "# Transformer model size\n",
        "n_weights = sum([np.product(w.shape) for w in trans_temp.trainable_weights])\n",
        "print(f'Total transformer weights:  {n_weights:,}')"
      ],
      "execution_count": 34,
      "outputs": [
        {
          "output_type": "stream",
          "name": "stdout",
          "text": [
            "Transformer output: (64, 128)\n",
            "Total transformer weights:  3,102,393\n"
          ]
        }
      ]
    },
    {
      "cell_type": "markdown",
      "metadata": {
        "id": "nnD10jZwMYyj"
      },
      "source": [
        "## Generator\n"
      ]
    },
    {
      "cell_type": "markdown",
      "metadata": {
        "id": "nn_l8HmwTgZ3"
      },
      "source": [
        "Forked from this great notebook: https://www.kaggle.com/its7171/time-series-api-iter-test-emulator"
      ]
    },
    {
      "cell_type": "code",
      "metadata": {
        "id": "JGCOVzHbtJSa"
      },
      "source": [
        "class IterValid(object):\n",
        "\n",
        "    def __init__(self, df, max_user=1000):\n",
        "        \"\"\"\n",
        "        General worflow:\n",
        "            ITERATOR (this class) --> df (test_df) -->  MODEL --> sample_df (sample_prediction_df)\n",
        "        \"\"\"\n",
        "        # test_df, the yield of the iterator\n",
        "        df = df [['row_id','timestamp','user_id','content_id','content_type_id','task_container_id',\n",
        "                  'user_answer', 'answered_correctly',\n",
        "                  'prior_question_elapsed_time','prior_question_had_explanation']]\n",
        "        df = df.reset_index(drop=True)\n",
        "        self.df = df\n",
        "\n",
        "        self.user_answer = df['user_answer'].astype(str).values\n",
        "        self.answered_correctly = df['answered_correctly'].astype(str).values\n",
        "\n",
        "        # 2 new columns in the iterator yield (=the input to the model)\n",
        "        df['prior_group_responses'] = \"[]\"\n",
        "        df['prior_group_answers_correct'] = \"[]\"\n",
        "        \n",
        "        # submission format: 2 columns: \n",
        "        #  row_id        answered_correctly (y_hat probability)\n",
        "        self.sample_df = df[df['content_type_id'] == 0][['row_id']]\n",
        "        self.sample_df['answered_correctly'] = 0.65\n",
        "\n",
        "        self.len = len(df)\n",
        "        self.user_id = df.user_id.values\n",
        "        self.task_container_id = df.task_container_id.values\n",
        "        self.content_type_id = df.content_type_id.values\n",
        "        \n",
        "        self.max_user = max_user\n",
        "        self.current = 0\n",
        "        self.pre_user_answer_list = []\n",
        "        self.pre_answered_correctly_list = []\n",
        "\n",
        "    def __iter__(self):\n",
        "        return self\n",
        "\n",
        "    def fix_df(self, \n",
        "               user_answer_list, answered_correctly_list, \n",
        "               pre_start   # previous group's start position (first row)\n",
        "               ):\n",
        "        \n",
        "        df= self.df[pre_start:self.current].copy()\n",
        "\n",
        "        sample_df = self.sample_df[pre_start:self.current].copy()\n",
        "\n",
        "        df.loc[pre_start,'prior_group_responses'] = '[' + \",\".join(self.pre_user_answer_list) + ']'\n",
        "        df.loc[pre_start,'prior_group_answers_correct'] = '[' + \",\".join(self.pre_answered_correctly_list) + ']'\n",
        "        \n",
        "        df.drop(['user_answer', 'answered_correctly'],axis=1, inplace=True)\n",
        "\n",
        "        self.pre_user_answer_list = user_answer_list\n",
        "        self.pre_answered_correctly_list = answered_correctly_list\n",
        "        return df, sample_df\n",
        "\n",
        "    def __next__(self):\n",
        "\n",
        "        added_user = set()\n",
        "        pre_start = self.current\n",
        "        pre_added_user = -1\n",
        "        pre_task_container_id = -1\n",
        "        pre_content_type_id = -1\n",
        "        user_answer_list = []\n",
        "        answered_correctly_list = []        \n",
        "        \n",
        "        while self.current < self.len:\n",
        "            crr_user_id = self.user_id[self.current]\n",
        "            crr_task_container_id = self.task_container_id[self.current]\n",
        "            crr_content_type_id = self.content_type_id[self.current]\n",
        "\n",
        "            # Each group will contain interactions from many different users, \n",
        "            # but no more than one task_container_id of questions from any single user. \n",
        "            if crr_user_id in added_user and (crr_user_id != pre_added_user or (crr_task_container_id != pre_task_container_id and crr_content_type_id == 0 and pre_content_type_id == 0)):\n",
        "                # known user(not prev user or (differnt task container and both question))\n",
        "                return self.fix_df(user_answer_list, answered_correctly_list, pre_start)\n",
        "            \n",
        "            # Each group has between 1 and 1000 users.\n",
        "            if len(added_user) == self.max_user:\n",
        "                if  crr_user_id == pre_added_user and (crr_task_container_id == pre_task_container_id or crr_content_type_id == 1):\n",
        "                    user_answer_list.append(self.user_answer[self.current])\n",
        "                    answered_correctly_list.append(self.answered_correctly[self.current])\n",
        "                    self.current += 1\n",
        "                    continue\n",
        "                else:\n",
        "                    return self.fix_df(user_answer_list, answered_correctly_list, pre_start)\n",
        "\n",
        "            added_user.add(crr_user_id)\n",
        "            pre_added_user = crr_user_id\n",
        "            pre_task_container_id = crr_task_container_id\n",
        "            pre_content_type_id = crr_content_type_id\n",
        "            user_answer_list.append(self.user_answer[self.current])\n",
        "            answered_correctly_list.append(self.answered_correctly[self.current])\n",
        "            self.current += 1\n",
        "        \n",
        "        if pre_start < self.current:\n",
        "            return self.fix_df(user_answer_list, answered_correctly_list, pre_start)\n",
        "        else:\n",
        "            raise StopIteration()            \n"
      ],
      "execution_count": 35,
      "outputs": []
    },
    {
      "cell_type": "markdown",
      "metadata": {
        "id": "tCkmHTWLtJU4"
      },
      "source": [
        "## Tracers"
      ]
    },
    {
      "cell_type": "code",
      "metadata": {
        "id": "0vwug4cEtJX7"
      },
      "source": [
        "\n",
        "class UserTracer(object):\n",
        "\n",
        "    def __init__(self, window=WINDOW, po=df_po):\n",
        "        \n",
        "        self.window = window\n",
        "        self.po=po \n",
        "        self.db = dict()\n",
        "\n",
        "    def from_df(self, train_df): \n",
        "\n",
        "        unique_users = train_df.user_id.unique()\n",
        "        user_idx = np.cumsum(train_df.user_id.value_counts().sort_index().values)\n",
        "        split_features = np.split(train_df.values, user_idx[:-1])\n",
        "        assert len(unique_users) == len(split_features)\n",
        "\n",
        "        for i, user in enumerate(unique_users):\n",
        "            \n",
        "            uf = split_features[i]  # user features\n",
        "            uf = uf[uf[:,self.po.timestamp].argsort()]   # sort by timestamp\n",
        "            uf = uf[-self.window-1:,:] # take last (window+1) timesteps\n",
        "            \n",
        "            self.db[user] = uf # create entry\n",
        "\n",
        "            assert len(uf)<=self.window+1\n",
        "            assert user==int(uf[0,self.po.user_id])\n",
        "\n",
        "        return self\n",
        "\n",
        "\n",
        "    def add_row(self, row):\n",
        "        \"\"\" Input: from the validation cycle, a 1D row\n",
        "            If user exists in DB:   append the row to the user_window\n",
        "                            else:   create a new key and add row as the starting user_window\n",
        "        \"\"\"\n",
        "        expanded_row = np.array(row).reshape(1,-1)\n",
        "        user = row[self.po.user_id]\n",
        "       \n",
        "        if user in self.db.keys():\n",
        "            uf = self.db[user]\n",
        "            assert row[self.po.timestamp] >= max(uf[:,self.po.timestamp])  # timestamp integrity\n",
        "            self.db[user] = np.concatenate((uf, expanded_row), axis=0)[-self.window-1:]\n",
        "\n",
        "        else:\n",
        "            self.db[user] = expanded_row\n",
        "\n",
        "    def get_window(self, user):\n",
        "        \"\"\"Returns the window of the shape (1, WINDOW, F_WIDTH)\n",
        "           if ut-native feature window is shorter, pad with zeros\n",
        "        \"\"\"\n",
        "        uf = self.db[user].copy()\n",
        "        uf = prepare_features(uf, self.po)\n",
        "        uf = uf[-self.window:]\n",
        "        \n",
        "        assert uf.shape[0]<=self.window\n",
        "\n",
        "        # pad extra zeros to dimension_0 if necessary\n",
        "        uf = np.pad(uf, ((0,self.window-uf.shape[0]),(0,0)))  \n",
        "        uf = np.expand_dims(uf, axis=0)\n",
        "       \n",
        "        assert uf.ndim==3\n",
        "        return uf\n",
        "\n",
        "\n",
        "    def from_pickle(self, file_path):\n",
        "        tic=time.time()\n",
        "        with open(file_path, 'rb') as handle:\n",
        "            self = pickle.load(handle)\n",
        "        print(f'done in {time.time()-tic:.1f} sec')        \n",
        "        return self\n",
        "\n",
        "\n",
        "    def to_pickle(self, file_path):\n",
        "        tic=time.time()\n",
        "        with open(file_path, 'wb') as handle:\n",
        "            pickle.dump(self, handle, protocol=pickle.HIGHEST_PROTOCOL)\n",
        "        print(f'done in {time.time()-tic:.1f} sec')        \n",
        "\n",
        "\n",
        "\n",
        "class QuestionTracer(object):\n",
        "\n",
        "    def __init__(self, po=df_po):\n",
        "        \n",
        "        self.po=po \n",
        "        self.eq = dict()  # eq: user's encountered questions\n",
        "\n",
        "    def from_df(self, train_df): \n",
        "        unique_users = train_df.user_id.unique()\n",
        "        user_idx = np.cumsum(train_df.user_id.value_counts().sort_index().values)\n",
        "        split_features = np.split(train_df.question_id.values, user_idx[:-1])\n",
        "        assert len(unique_users) == len(split_features)\n",
        "\n",
        "        for i, user in enumerate(unique_users):\n",
        "            self.eq[user] = split_features[i]   # encountered questions\n",
        "        return self\n",
        "\n",
        "\n",
        "    def add_eq(self, user, question):\n",
        "        if user in self.eq.keys():  \n",
        "            self.eq[user] = np.concatenate((self.eq[user], [question]))\n",
        "        else:\n",
        "            self.eq[user]=np.array([question])\n",
        "\n",
        "\n",
        "    def check_eq(self, user, question):\n",
        "        check=False\n",
        "        if user in self.eq.keys() and question in self.eq[user]: check=True\n",
        "        return check\n",
        "\n",
        "\n",
        "    def from_pickle(self, file_path):\n",
        "        tic=time.time()\n",
        "        with open(file_path, 'rb') as handle:\n",
        "            self = pickle.load(handle)\n",
        "        print(f'done in {time.time()-tic:.1f} sec')        \n",
        "        return self\n",
        "\n",
        "\n",
        "    def to_pickle(self, file_path):\n",
        "        tic=time.time()\n",
        "        with open(file_path, 'wb') as handle:\n",
        "            pickle.dump(self, handle, protocol=pickle.HIGHEST_PROTOCOL)\n",
        "        print(f'done in {time.time()-tic:.1f} sec')        \n"
      ],
      "execution_count": 36,
      "outputs": []
    },
    {
      "cell_type": "code",
      "metadata": {
        "id": "hIPerTOqd5tL"
      },
      "source": [
        "# ut_0 = UserTracer().from_df(train_df)\n",
        "# ut = UserTracer().from_pickle(path+'data/ut_master.pkl')"
      ],
      "execution_count": 37,
      "outputs": []
    },
    {
      "cell_type": "markdown",
      "metadata": {
        "id": "UfLGhOcJFnJx"
      },
      "source": [
        "## OOS Validation"
      ]
    },
    {
      "cell_type": "code",
      "metadata": {
        "id": "3zZQk_nOFnHR"
      },
      "source": [
        "oos_valid_df = valid_df[:100_000]\n",
        "oos_valid_users = oos_valid_df.user_id.unique()\n",
        "oos_valid_traces = train_df[train_df.user_id.isin(oos_valid_users)]"
      ],
      "execution_count": 38,
      "outputs": []
    },
    {
      "cell_type": "code",
      "metadata": {
        "id": "XU4D5y2FFnEG"
      },
      "source": [
        "def oos_validate(transformer,\n",
        "                 valid_df, \n",
        "                 valid_traces, \n",
        "                 df_po=df_po,\n",
        "                 shuffle_pos=None,\n",
        "                 remove_lectures=REMOVE_LECTURES, \n",
        "                 hist_bins=HIST_BINS,\n",
        "                 qcp_hist=QCP_HIST,\n",
        "                 ):\n",
        "    tic=time.time()\n",
        "\n",
        "    iter_test = IterValid(valid_df, max_user=1000)\n",
        "\n",
        "    ut = UserTracer().from_df(valid_traces)\n",
        "    qt = QuestionTracer().from_df(valid_traces)\n",
        "    \n",
        "    if remove_lectures: valid_df=valid_df[valid_df.content_type_id==0]\n",
        "    total_length = len(valid_df)\n",
        "    group_length=[]  # iterator groups\n",
        "\n",
        "    predicted = []  # to accumulate predictions\n",
        "    wls = []        # to accumulate window lengths (before padding)\n",
        "\n",
        "    prior_group= None\n",
        "\n",
        "    for (current_group,_) in iter_test:\n",
        "\n",
        "        # ======== ACCESS THE PRIOR CORRECT ANSWERS, UPDATE THE DATABASE    \n",
        "\n",
        "        if prior_group is not None:\n",
        "            prior_group['correct'] = eval(current_group.prior_group_answers_correct.iloc[0])\n",
        "            \n",
        "            prior_group = prior_group[prior_group.content_type_id==0]\n",
        "\n",
        "            # riiid rules: no more than one task_container_id of questions from any single user            \n",
        "            for user_id in prior_group.user_id.unique():\n",
        "\n",
        "                user_group = prior_group[prior_group.user_id==user_id]\n",
        "                y_true = user_group.correct.values\n",
        "                ut.db[user_id][-len(y_true):, df_po.y_true] = y_true  \n",
        "\n",
        "        prior_group = current_group.copy()\n",
        "\n",
        "        # ======== ADD NEW ROWS, RETRIEVE WINDOWED FEATURES\n",
        "        x_group = []\n",
        "\n",
        "        current_group=current_group[current_group.content_type_id==0]\n",
        "\n",
        "        if len(current_group)==0: continue\n",
        "        \n",
        "        # current_group.prior_question_had_explanation.fillna(0, inplace=True)\n",
        "\n",
        "        for _, row in current_group.iterrows():\n",
        "            \n",
        "            user     = row.user_id\n",
        "            question = row.content_id\n",
        "            \n",
        "            user_total = ut.db[user][-1,df_po.user_total]+1 if user in ut.db.keys() else 1\n",
        "            history = np.digitize(user_total, hist_bins)\n",
        "            \n",
        "            repeat = 1 if qt.check_eq(user, question) else 0 \n",
        "            qt.add_eq(user, question)\n",
        "            \n",
        "            po_dict = { \n",
        "                df_po.y_true      : qcp_hist[int(question),int(history)],\n",
        "                df_po.user_id     : user,\n",
        "                df_po.question_id : question,\n",
        "                df_po.repeat      : repeat,\n",
        "                df_po.timestamp   : row.timestamp,\n",
        "                df_po.user_total  : user_total,     # to be rolled inside prepare_features\n",
        "            }\n",
        "\n",
        "            assert len(po_dict)==len(df_po.__dict__)\n",
        "            ut.add_row([po_dict[k] for k in sorted(po_dict.keys())])\n",
        "            \n",
        "            uf = ut.get_window(row.user_id)  \n",
        "            x_group.append(uf)\n",
        "\n",
        "        # ======== PREDICT WITH TRANSFORMER\n",
        "        x_group = np.concatenate(x_group).astype(np.float32)\n",
        "        if shuffle_pos is not None: x_group = shuffle_feature(x_group, shuffle_pos)\n",
        "       \n",
        "        y_group = transformer(x_group, training=False)\n",
        "        if y_group.ndim==1: y_group=np.expand_dims(y_group, axis=0)  #for the rare groups of 1 row\n",
        "\n",
        "        wl = get_last_t(x_group)  # wl: window length (before padding)\n",
        "        current_group['answered_correctly'] = tf.gather(y_group, wl, batch_dims=1, axis=1)\n",
        "        predicted.append(current_group.loc[:,['row_id','user_id','answered_correctly']]) \n",
        "        # KAGGLE:  env.predict(current_group.loc[:, ['row_id', 'answered_correctly']])\n",
        "\n",
        "        wls.append(wl)\n",
        "        group_length.append(len(current_group))\n",
        "        print(f'\\rProcessed: {100*sum(group_length)/total_length:.1f}%  {time.time()-tic:.1f} sec',end='')\n",
        "\n",
        "    predicted = pd.concat(predicted)\n",
        "    predicted = predicted.rename(columns={'answered_correctly': 'y_pred'})\n",
        "    predicted['y_true'] = valid_df.answered_correctly.values\n",
        "    predicted['wl'] = np.concatenate(wls)\n",
        "\n",
        "    return predicted\n",
        "\n"
      ],
      "execution_count": 39,
      "outputs": []
    },
    {
      "cell_type": "markdown",
      "metadata": {
        "id": "sEzU6RfgaHi8"
      },
      "source": [
        "## Train"
      ]
    },
    {
      "cell_type": "markdown",
      "metadata": {
        "id": "K7fk_vEkFiLv"
      },
      "source": [
        "### Setup"
      ]
    },
    {
      "cell_type": "code",
      "metadata": {
        "id": "DpuyZRTquJzG"
      },
      "source": [
        "LOAD_MODEL = False\n",
        "\n",
        "if LOAD_MODEL:\n",
        "    save_path = path + 'saved_models/' +'x9_unified_2021_01_03_22_18_ep_2'\n",
        "    transformer = tf.keras.models.load_model(save_path)\n",
        "\n",
        "    # verify the computational graph\n",
        "    x = tf.random.uniform((BATCH_SIZE, WINDOW, F_WIDTH))  # (batch, seq, features)\n",
        "    trans_out = transformer(x, training=False)\n",
        "    print('Transformer output:', trans_out.shape)\n",
        "\n",
        "    # check model size\n",
        "    n_weights = sum([np.product(w.shape) for w in transformer.trainable_weights])\n",
        "    print(f'Total transformer weights:  {n_weights:,}')\n",
        "\n",
        "else:\n",
        "    transformer = Transformer(WINDOW, N_LAYERS, D_MODEL, N_HEADS, DFF, DROPOUT, \n",
        "                          N_QUESTIONS, N_LAGBINS, N_HISTBINS, ds_po)    "
      ],
      "execution_count": 40,
      "outputs": []
    },
    {
      "cell_type": "code",
      "metadata": {
        "id": "0RXbRZ02W556",
        "colab": {
          "base_uri": "https://localhost:8080/",
          "height": 282
        },
        "outputId": "05a5340a-13e2-4ebc-ce45-0db4bcd2b72b"
      },
      "source": [
        "MODEL_NAME = 'a0_best'\n",
        "\n",
        "EPOCHS = 5\n",
        "\n",
        "REPORT_FREQ  = 500\n",
        "VAL_FREQ     = 5_000 \n",
        "\n",
        "OOS_VAL_FREQ = train_batches  # at the end of each epoch\n",
        "CHKP_FREQ    = train_batches  # at the end of each epoch\n",
        "\n",
        "CHKP_RESTORE = False\n",
        "SAVE_EPOCH   = True\n",
        "\n",
        "LR = [1e-3, 5e-4, 4e-4, 3e-4, 2e-4, 1e-4, 1e-4, 1e-4, 1e-4, 1e-4, ]\n",
        "plt.plot(LR); plt.title('learning rate');"
      ],
      "execution_count": 41,
      "outputs": [
        {
          "output_type": "display_data",
          "data": {
            "image/png": "[encoded data removed]",
            "text/plain": [
              "<Figure size 432x288 with 1 Axes>"
            ]
          },
          "metadata": {}
        }
      ]
    },
    {
      "cell_type": "markdown",
      "metadata": {
        "id": "O1Ob27tzL8Vb"
      },
      "source": [
        "tf.GradientTape API: https://www.tensorflow.org/guide/autodiff#gradient_tapes\n",
        "\n",
        "TensorFlow provides the tf.GradientTape API for automatic differentiation; that is, computing the gradient of a computation with respect to some inputs, usually tf.Variables. \n",
        "\n",
        "TensorFlow \"records\" relevant operations executed inside the context of a tf.GradientTape onto a \"tape\". TensorFlow then uses that tape to compute the gradients of a \"recorded\" computation using reverse mode differentiation."
      ]
    },
    {
      "cell_type": "code",
      "metadata": {
        "id": "NIPp9qsmiFGe"
      },
      "source": [
        "optimizer = tf.keras.optimizers.Adam(1e-3, beta_1=0.9, beta_2=0.999, epsilon=1e-08)\n",
        "\n",
        "train_loss = tf.keras.metrics.Mean(name='train_loss', dtype=tf.float32)\n",
        "\n",
        "# The @tf.function trace-compiles train_step into a TF graph for faster execution.\n",
        "@tf.function(input_signature=[\n",
        "                    tf.TensorSpec(shape=(BATCH_SIZE, WINDOW, F_WIDTH), \n",
        "                                  dtype=D_TYPE)\n",
        "                    ],\n",
        "             experimental_relax_shapes=True)\n",
        "def train_step(batch, po=ds_po):  \n",
        "\n",
        "    with tf.GradientTape() as tape:\n",
        "        \n",
        "        y_true = batch[:, :, po.y_true] \n",
        "        y_pred = transformer(batch, training=True)\n",
        "        \n",
        "        loss = binary_crossentropy(y_true, y_pred)\n",
        "        \n",
        "    gradients = tape.gradient(loss, transformer.trainable_variables)   \n",
        "    optimizer.apply_gradients(zip(gradients, transformer.trainable_variables))\n",
        "    \n",
        "    train_loss(loss)\n"
      ],
      "execution_count": 42,
      "outputs": []
    },
    {
      "cell_type": "code",
      "metadata": {
        "colab": {
          "base_uri": "https://localhost:8080/"
        },
        "id": "MdcQvEEt6Naa",
        "outputId": "6c80fe70-39cd-4511-8f3e-eff3317f1acc"
      },
      "source": [
        "# TensorBoard\n",
        "log_dir = path + f'tensorboard/{MODEL_NAME}' + datetime.datetime.now().strftime('%Y%m%d_%H%M%S')\n",
        "train_summary_writer = tf.summary.create_file_writer(log_dir)\n",
        "print(f'Recording tf.summary data into {log_dir}')\n",
        "\n",
        "# Checkpoints\n",
        "chkp = tf.train.Checkpoint(optimizer=optimizer, transformer=transformer)\n",
        "chkp_manager = tf.train.CheckpointManager(chkp, path+f'checkpoints/{MODEL_NAME}', max_to_keep=10)\n",
        "\n",
        "if CHKP_RESTORE:  # Restart training from the latest checkpoint, if exists\n",
        "    chkp.restore(chkp_manager.latest_checkpoint)\n",
        "    print(f'Latest checkpoint loaded: {chkp_manager.latest_checkpoint}')"
      ],
      "execution_count": 43,
      "outputs": [
        {
          "output_type": "stream",
          "name": "stdout",
          "text": [
            "Recording tf.summary data into /content/drive/My Drive/Riiid/tensorboard/a0_best20211129_020551\n"
          ]
        }
      ]
    },
    {
      "cell_type": "markdown",
      "metadata": {
        "id": "CW-dqWomFYAx"
      },
      "source": [
        "### Cycle"
      ]
    },
    {
      "cell_type": "code",
      "metadata": {
        "colab": {
          "base_uri": "https://localhost:8080/"
        },
        "id": "89JgZl7CiFJo",
        "outputId": "d86b0f1b-0432-4942-d555-2a31f703af32"
      },
      "source": [
        "print (80*'='); print(f'GLOBAL TIME: {time.time()-TIC:.1f} sec'); print(80*'=')\n",
        "\n",
        "val_AUCs=[]\n",
        "oos_val_AUCs=[]\n",
        "\n",
        "tic = time.time()\n",
        "\n",
        "for epoch in range(EPOCHS):\n",
        "    \n",
        "    K.set_value(optimizer.lr, LR[epoch]) # set learning rate\n",
        "\n",
        "    for i, batch in enumerate(train_ds): \n",
        "\n",
        "        train_step(batch) # single training step, gradients applied to weights\n",
        "        \n",
        "        _loss = train_loss.result().numpy()   # train_loss.reset_states() if no accumulation\n",
        "\n",
        "        if (i+1) % REPORT_FREQ == 0:\n",
        "            print(f'Batch: {i+1:,} {100*(i+1)/train_batches:.2f}% \\t{time.time()-tic:.1f} sec', \n",
        "                  f'\\tLoss: {_loss:.4f}')\n",
        "\n",
        "        if (i+1) % VAL_FREQ==0:\n",
        "            toc=time.time()\n",
        "\n",
        "            y_true, y_pred = [],[]\n",
        "            for el in val_ds: \n",
        "                # measure val. performance for the last element only (given the entire history)\n",
        "                idx = get_last_t(el)\n",
        "                y_true.append(tf.gather(el[:, :, ds_po.y_true], idx, batch_dims=1, axis=1))\n",
        "                y_pred.append(tf.gather(transformer(el, training=False), idx, batch_dims=1, axis=1))\n",
        "            \n",
        "            val_AUC = roc_auc_score(np.concatenate(y_true), np.concatenate(y_pred))\n",
        "            val_AUCs.append(val_AUC)\n",
        "            print (f'Val AUC: {val_AUC:.5f}')\n",
        "            print (f'Val time: {time.time()-toc:.1f} sec'); print(60*'-')\n",
        "\n",
        "            with train_summary_writer.as_default():\n",
        "                tf.summary.scalar('AUC',  val_AUC, step=i)\n",
        "\n",
        "\n",
        "        if (i+1) % OOS_VAL_FREQ == 0:\n",
        "            toc=time.time()\n",
        "\n",
        "            predicted = oos_validate(transformer, oos_valid_df, oos_valid_traces)\n",
        "            oos_val_AUC = roc_auc_score(predicted.y_true.values, predicted.y_pred.values)\n",
        "            oos_val_AUCs.append(oos_val_AUC)\n",
        "            print (f'\\nOOS_AUC: {oos_val_AUC:.5f}')\n",
        "            print(list(np.round(oos_val_AUCs, 5)))\n",
        "            print (f'OOS Validation time: {time.time()-toc:.1f} sec'); print(80*'=')\n",
        "\n",
        "            with train_summary_writer.as_default():\n",
        "                tf.summary.scalar('OOS_AUC',  oos_val_AUC, step=i)\n",
        "\n",
        "\n",
        "        if (i+1) % CHKP_FREQ == 0:\n",
        "            chkp_save_path = chkp_manager.save()\n",
        "            print (f'Checkpoint saved at {chkp_save_path}'); print(80*'=')\n",
        "\n",
        "\n",
        "    if SAVE_EPOCH:\n",
        "        save_path = f'{path}saved_models/{MODEL_NAME}_{time.strftime(\"%Y_%m_%d_%H_%M\")}_ep_{epoch+1}'\n",
        "        tf.saved_model.save(transformer, save_path)\n",
        "\n",
        "    print(80*'*');print(80*'*')\n",
        "    print(f'Completed Epoch: {epoch+1}     {time.time()-tic:.1f} sec')\n",
        "    print(80*'*');print(80*'*')\n"
      ],
      "execution_count": 44,
      "outputs": [
        {
          "output_type": "stream",
          "name": "stdout",
          "text": [
            "================================================================================\n",
            "GLOBAL TIME: 663.3 sec\n",
            "================================================================================\n",
            "Batch: 500 2.56% \t35.7 sec \tLoss: 0.5257\n",
            "Batch: 1,000 5.12% \t62.7 sec \tLoss: 0.4801\n",
            "Batch: 1,500 7.69% \t89.6 sec \tLoss: 0.4623\n",
            "Batch: 2,000 10.25% \t116.6 sec \tLoss: 0.4527\n",
            "Batch: 2,500 12.81% \t143.5 sec \tLoss: 0.4464\n",
            "Batch: 3,000 15.37% \t170.5 sec \tLoss: 0.4421\n",
            "Batch: 3,500 17.93% \t197.4 sec \tLoss: 0.4388\n",
            "Batch: 4,000 20.50% \t224.4 sec \tLoss: 0.4360\n",
            "Batch: 4,500 23.06% \t251.4 sec \tLoss: 0.4339\n",
            "Batch: 5,000 25.62% \t278.4 sec \tLoss: 0.4322\n",
            "Val AUC: 0.77022\n",
            "Val time: 9.6 sec\n",
            "------------------------------------------------------------\n",
            "Batch: 5,500 28.18% \t315.0 sec \tLoss: 0.4304\n",
            "Batch: 6,000 30.74% \t342.0 sec \tLoss: 0.4292\n",
            "Batch: 6,500 33.31% \t368.9 sec \tLoss: 0.4281\n",
            "Batch: 7,000 35.87% \t395.9 sec \tLoss: 0.4270\n",
            "Batch: 7,500 38.43% \t422.9 sec \tLoss: 0.4261\n",
            "Batch: 8,000 40.99% \t449.8 sec \tLoss: 0.4252\n",
            "Batch: 8,500 43.55% \t476.8 sec \tLoss: 0.4246\n",
            "Batch: 9,000 46.12% \t503.8 sec \tLoss: 0.4239\n",
            "Batch: 9,500 48.68% \t530.7 sec \tLoss: 0.4234\n",
            "Batch: 10,000 51.24% \t557.7 sec \tLoss: 0.4228\n",
            "Val AUC: 0.78468\n",
            "Val time: 9.4 sec\n",
            "------------------------------------------------------------\n",
            "Batch: 10,500 53.80% \t594.0 sec \tLoss: 0.4223\n",
            "Batch: 11,000 56.36% \t620.9 sec \tLoss: 0.4219\n",
            "Batch: 11,500 58.93% \t647.9 sec \tLoss: 0.4215\n",
            "Batch: 12,000 61.49% \t674.8 sec \tLoss: 0.4210\n",
            "Batch: 12,500 64.05% \t701.7 sec \tLoss: 0.4206\n",
            "Batch: 13,000 66.61% \t728.6 sec \tLoss: 0.4202\n",
            "Batch: 13,500 69.17% \t755.6 sec \tLoss: 0.4198\n",
            "Batch: 14,000 71.74% \t782.5 sec \tLoss: 0.4194\n",
            "Batch: 14,500 74.30% \t809.4 sec \tLoss: 0.4191\n",
            "Batch: 15,000 76.86% \t836.3 sec \tLoss: 0.4187\n",
            "Val AUC: 0.77436\n",
            "Val time: 9.4 sec\n",
            "------------------------------------------------------------\n",
            "Batch: 15,500 79.42% \t872.7 sec \tLoss: 0.4184\n",
            "Batch: 16,000 81.98% \t899.6 sec \tLoss: 0.4181\n",
            "Batch: 16,500 84.55% \t926.5 sec \tLoss: 0.4178\n",
            "Batch: 17,000 87.11% \t953.4 sec \tLoss: 0.4175\n",
            "Batch: 17,500 89.67% \t980.4 sec \tLoss: 0.4172\n",
            "Batch: 18,000 92.23% \t1007.3 sec \tLoss: 0.4169\n",
            "Batch: 18,500 94.79% \t1034.2 sec \tLoss: 0.4166\n",
            "Batch: 19,000 97.36% \t1061.1 sec \tLoss: 0.4164\n",
            "Batch: 19,500 99.92% \t1088.1 sec \tLoss: 0.4162\n",
            "Processed: 100.0%  699.8 sec\n",
            "OOS_AUC: 0.79125\n",
            "[0.79125]\n",
            "OOS Validation time: 701.6 sec\n",
            "================================================================================\n",
            "Checkpoint saved at /content/drive/My Drive/Riiid/checkpoints/a0_best/ckpt-1\n",
            "================================================================================\n"
          ]
        },
        {
          "output_type": "stream",
          "name": "stderr",
          "text": [
            "WARNING:absl:Found untraced functions such as dropout_12_layer_call_fn, dropout_12_layer_call_and_return_conditional_losses, dropout_17_layer_call_fn, dropout_17_layer_call_and_return_conditional_losses, dropout_12_layer_call_fn while saving (showing 5 of 320). These functions will not be directly callable after loading.\n"
          ]
        },
        {
          "output_type": "stream",
          "name": "stdout",
          "text": [
            "INFO:tensorflow:Assets written to: /content/drive/My Drive/Riiid/saved_models/a0_best_2021_11_29_02_35_ep_1/assets\n"
          ]
        },
        {
          "output_type": "stream",
          "name": "stderr",
          "text": [
            "INFO:tensorflow:Assets written to: /content/drive/My Drive/Riiid/saved_models/a0_best_2021_11_29_02_35_ep_1/assets\n"
          ]
        },
        {
          "output_type": "stream",
          "name": "stdout",
          "text": [
            "********************************************************************************\n",
            "********************************************************************************\n",
            "Completed Epoch: 1     1802.4 sec\n",
            "********************************************************************************\n",
            "********************************************************************************\n",
            "Batch: 500 2.56% \t1832.0 sec \tLoss: 0.4159\n",
            "Batch: 1,000 5.12% \t1859.0 sec \tLoss: 0.4156\n",
            "Batch: 1,500 7.69% \t1885.9 sec \tLoss: 0.4154\n",
            "Batch: 2,000 10.25% \t1912.9 sec \tLoss: 0.4152\n",
            "Batch: 2,500 12.81% \t1940.0 sec \tLoss: 0.4150\n",
            "Batch: 3,000 15.37% \t1967.0 sec \tLoss: 0.4148\n",
            "Batch: 3,500 17.93% \t1994.1 sec \tLoss: 0.4146\n",
            "Batch: 4,000 20.50% \t2021.1 sec \tLoss: 0.4143\n",
            "Batch: 4,500 23.06% \t2048.1 sec \tLoss: 0.4141\n",
            "Batch: 5,000 25.62% \t2075.0 sec \tLoss: 0.4139\n",
            "Val AUC: 0.79116\n",
            "Val time: 9.5 sec\n",
            "------------------------------------------------------------\n",
            "Batch: 5,500 28.18% \t2111.5 sec \tLoss: 0.4138\n",
            "Batch: 6,000 30.74% \t2138.5 sec \tLoss: 0.4136\n",
            "Batch: 6,500 33.31% \t2165.6 sec \tLoss: 0.4134\n",
            "Batch: 7,000 35.87% \t2192.6 sec \tLoss: 0.4132\n",
            "Batch: 7,500 38.43% \t2219.6 sec \tLoss: 0.4131\n",
            "Batch: 8,000 40.99% \t2246.6 sec \tLoss: 0.4129\n",
            "Batch: 8,500 43.55% \t2273.6 sec \tLoss: 0.4128\n",
            "Batch: 9,000 46.12% \t2300.6 sec \tLoss: 0.4126\n",
            "Batch: 9,500 48.68% \t2327.6 sec \tLoss: 0.4124\n",
            "Batch: 10,000 51.24% \t2354.5 sec \tLoss: 0.4123\n",
            "Val AUC: 0.79761\n",
            "Val time: 9.5 sec\n",
            "------------------------------------------------------------\n",
            "Batch: 10,500 53.80% \t2391.0 sec \tLoss: 0.4121\n",
            "Batch: 11,000 56.36% \t2418.0 sec \tLoss: 0.4120\n",
            "Batch: 11,500 58.93% \t2445.0 sec \tLoss: 0.4119\n",
            "Batch: 12,000 61.49% \t2472.2 sec \tLoss: 0.4118\n",
            "Batch: 12,500 64.05% \t2499.2 sec \tLoss: 0.4116\n",
            "Batch: 13,000 66.61% \t2526.2 sec \tLoss: 0.4115\n",
            "Batch: 13,500 69.17% \t2553.2 sec \tLoss: 0.4114\n",
            "Batch: 14,000 71.74% \t2580.2 sec \tLoss: 0.4113\n",
            "Batch: 14,500 74.30% \t2607.2 sec \tLoss: 0.4112\n",
            "Batch: 15,000 76.86% \t2634.2 sec \tLoss: 0.4111\n",
            "Val AUC: 0.78941\n",
            "Val time: 9.5 sec\n",
            "------------------------------------------------------------\n",
            "Batch: 15,500 79.42% \t2670.7 sec \tLoss: 0.4110\n",
            "Batch: 16,000 81.98% \t2697.8 sec \tLoss: 0.4109\n",
            "Batch: 16,500 84.55% \t2724.8 sec \tLoss: 0.4108\n",
            "Batch: 17,000 87.11% \t2751.8 sec \tLoss: 0.4107\n",
            "Batch: 17,500 89.67% \t2778.9 sec \tLoss: 0.4106\n",
            "Batch: 18,000 92.23% \t2805.9 sec \tLoss: 0.4105\n",
            "Batch: 18,500 94.79% \t2832.9 sec \tLoss: 0.4104\n",
            "Batch: 19,000 97.36% \t2860.0 sec \tLoss: 0.4103\n",
            "Batch: 19,500 99.92% \t2887.0 sec \tLoss: 0.4103\n",
            "Processed: 100.0%  709.4 sec\n",
            "OOS_AUC: 0.79598\n",
            "[0.79125, 0.79598]\n",
            "OOS Validation time: 710.9 sec\n",
            "================================================================================\n",
            "Checkpoint saved at /content/drive/My Drive/Riiid/checkpoints/a0_best/ckpt-2\n",
            "================================================================================\n"
          ]
        },
        {
          "output_type": "stream",
          "name": "stderr",
          "text": [
            "WARNING:absl:Found untraced functions such as dropout_12_layer_call_fn, dropout_12_layer_call_and_return_conditional_losses, dropout_17_layer_call_fn, dropout_17_layer_call_and_return_conditional_losses, dropout_12_layer_call_fn while saving (showing 5 of 320). These functions will not be directly callable after loading.\n"
          ]
        },
        {
          "output_type": "stream",
          "name": "stdout",
          "text": [
            "INFO:tensorflow:Assets written to: /content/drive/My Drive/Riiid/saved_models/a0_best_2021_11_29_03_05_ep_2/assets\n"
          ]
        },
        {
          "output_type": "stream",
          "name": "stderr",
          "text": [
            "INFO:tensorflow:Assets written to: /content/drive/My Drive/Riiid/saved_models/a0_best_2021_11_29_03_05_ep_2/assets\n"
          ]
        },
        {
          "output_type": "stream",
          "name": "stdout",
          "text": [
            "********************************************************************************\n",
            "********************************************************************************\n",
            "Completed Epoch: 2     3610.1 sec\n",
            "********************************************************************************\n",
            "********************************************************************************\n",
            "Batch: 500 2.56% \t3639.8 sec \tLoss: 0.4102\n",
            "Batch: 1,000 5.12% \t3666.9 sec \tLoss: 0.4101\n",
            "Batch: 1,500 7.69% \t3693.9 sec \tLoss: 0.4100\n",
            "Batch: 2,000 10.25% \t3721.0 sec \tLoss: 0.4099\n",
            "Batch: 2,500 12.81% \t3748.0 sec \tLoss: 0.4098\n",
            "Batch: 3,000 15.37% \t3775.0 sec \tLoss: 0.4097\n",
            "Batch: 3,500 17.93% \t3802.0 sec \tLoss: 0.4096\n",
            "Batch: 4,000 20.50% \t3829.0 sec \tLoss: 0.4095\n",
            "Batch: 4,500 23.06% \t3856.0 sec \tLoss: 0.4094\n",
            "Batch: 5,000 25.62% \t3883.0 sec \tLoss: 0.4093\n",
            "Val AUC: 0.79075\n",
            "Val time: 9.4 sec\n",
            "------------------------------------------------------------\n",
            "Batch: 5,500 28.18% \t3919.4 sec \tLoss: 0.4092\n",
            "Batch: 6,000 30.74% \t3946.5 sec \tLoss: 0.4091\n",
            "Batch: 6,500 33.31% \t3973.5 sec \tLoss: 0.4090\n",
            "Batch: 7,000 35.87% \t4000.6 sec \tLoss: 0.4090\n",
            "Batch: 7,500 38.43% \t4027.6 sec \tLoss: 0.4089\n",
            "Batch: 8,000 40.99% \t4054.6 sec \tLoss: 0.4089\n",
            "Batch: 8,500 43.55% \t4081.6 sec \tLoss: 0.4088\n",
            "Batch: 9,000 46.12% \t4108.6 sec \tLoss: 0.4087\n",
            "Batch: 9,500 48.68% \t4135.7 sec \tLoss: 0.4086\n",
            "Batch: 10,000 51.24% \t4162.8 sec \tLoss: 0.4086\n",
            "Val AUC: 0.79809\n",
            "Val time: 9.6 sec\n",
            "------------------------------------------------------------\n",
            "Batch: 10,500 53.80% \t4199.4 sec \tLoss: 0.4085\n",
            "Batch: 11,000 56.36% \t4226.4 sec \tLoss: 0.4085\n",
            "Batch: 11,500 58.93% \t4253.4 sec \tLoss: 0.4084\n",
            "Batch: 12,000 61.49% \t4280.4 sec \tLoss: 0.4083\n",
            "Batch: 12,500 64.05% \t4307.4 sec \tLoss: 0.4083\n",
            "Batch: 13,000 66.61% \t4334.4 sec \tLoss: 0.4082\n",
            "Batch: 13,500 69.17% \t4361.4 sec \tLoss: 0.4082\n",
            "Batch: 14,000 71.74% \t4388.4 sec \tLoss: 0.4081\n",
            "Batch: 14,500 74.30% \t4415.4 sec \tLoss: 0.4080\n",
            "Batch: 15,000 76.86% \t4442.4 sec \tLoss: 0.4080\n",
            "Val AUC: 0.79564\n",
            "Val time: 9.5 sec\n",
            "------------------------------------------------------------\n",
            "Batch: 15,500 79.42% \t4478.9 sec \tLoss: 0.4079\n",
            "Batch: 16,000 81.98% \t4505.9 sec \tLoss: 0.4079\n",
            "Batch: 16,500 84.55% \t4532.9 sec \tLoss: 0.4078\n",
            "Batch: 17,000 87.11% \t4560.0 sec \tLoss: 0.4078\n",
            "Batch: 17,500 89.67% \t4587.0 sec \tLoss: 0.4077\n",
            "Batch: 18,000 92.23% \t4614.1 sec \tLoss: 0.4077\n",
            "Batch: 18,500 94.79% \t4641.1 sec \tLoss: 0.4076\n",
            "Batch: 19,000 97.36% \t4668.1 sec \tLoss: 0.4076\n",
            "Batch: 19,500 99.92% \t4695.1 sec \tLoss: 0.4075\n",
            "Processed: 100.0%  720.7 sec\n",
            "OOS_AUC: 0.79702\n",
            "[0.79125, 0.79598, 0.79702]\n",
            "OOS Validation time: 722.3 sec\n",
            "================================================================================\n",
            "Checkpoint saved at /content/drive/My Drive/Riiid/checkpoints/a0_best/ckpt-3\n",
            "================================================================================\n"
          ]
        },
        {
          "output_type": "stream",
          "name": "stderr",
          "text": [
            "WARNING:absl:Found untraced functions such as dropout_12_layer_call_fn, dropout_12_layer_call_and_return_conditional_losses, dropout_17_layer_call_fn, dropout_17_layer_call_and_return_conditional_losses, dropout_12_layer_call_fn while saving (showing 5 of 320). These functions will not be directly callable after loading.\n"
          ]
        },
        {
          "output_type": "stream",
          "name": "stdout",
          "text": [
            "INFO:tensorflow:Assets written to: /content/drive/My Drive/Riiid/saved_models/a0_best_2021_11_29_03_36_ep_3/assets\n"
          ]
        },
        {
          "output_type": "stream",
          "name": "stderr",
          "text": [
            "INFO:tensorflow:Assets written to: /content/drive/My Drive/Riiid/saved_models/a0_best_2021_11_29_03_36_ep_3/assets\n"
          ]
        },
        {
          "output_type": "stream",
          "name": "stdout",
          "text": [
            "********************************************************************************\n",
            "********************************************************************************\n",
            "Completed Epoch: 3     5429.7 sec\n",
            "********************************************************************************\n",
            "********************************************************************************\n",
            "Batch: 500 2.56% \t5459.6 sec \tLoss: 0.4074\n",
            "Batch: 1,000 5.12% \t5486.6 sec \tLoss: 0.4074\n",
            "Batch: 1,500 7.69% \t5513.8 sec \tLoss: 0.4073\n",
            "Batch: 2,000 10.25% \t5541.0 sec \tLoss: 0.4073\n",
            "Batch: 2,500 12.81% \t5568.1 sec \tLoss: 0.4072\n",
            "Batch: 3,000 15.37% \t5595.2 sec \tLoss: 0.4072\n",
            "Batch: 3,500 17.93% \t5622.3 sec \tLoss: 0.4071\n",
            "Batch: 4,000 20.50% \t5649.5 sec \tLoss: 0.4071\n",
            "Batch: 4,500 23.06% \t5676.6 sec \tLoss: 0.4070\n",
            "Batch: 5,000 25.62% \t5703.7 sec \tLoss: 0.4070\n",
            "Val AUC: 0.78766\n",
            "Val time: 9.8 sec\n",
            "------------------------------------------------------------\n",
            "Batch: 5,500 28.18% \t5740.6 sec \tLoss: 0.4069\n",
            "Batch: 6,000 30.74% \t5767.7 sec \tLoss: 0.4069\n",
            "Batch: 6,500 33.31% \t5794.7 sec \tLoss: 0.4068\n",
            "Batch: 7,000 35.87% \t5821.8 sec \tLoss: 0.4068\n",
            "Batch: 7,500 38.43% \t5848.7 sec \tLoss: 0.4067\n",
            "Batch: 8,000 40.99% \t5875.7 sec \tLoss: 0.4067\n",
            "Batch: 8,500 43.55% \t5902.7 sec \tLoss: 0.4066\n",
            "Batch: 9,000 46.12% \t5929.7 sec \tLoss: 0.4066\n",
            "Batch: 9,500 48.68% \t5956.7 sec \tLoss: 0.4065\n",
            "Batch: 10,000 51.24% \t5983.7 sec \tLoss: 0.4065\n",
            "Val AUC: 0.79482\n",
            "Val time: 9.5 sec\n",
            "------------------------------------------------------------\n",
            "Batch: 10,500 53.80% \t6020.2 sec \tLoss: 0.4065\n",
            "Batch: 11,000 56.36% \t6047.2 sec \tLoss: 0.4064\n",
            "Batch: 11,500 58.93% \t6074.2 sec \tLoss: 0.4064\n",
            "Batch: 12,000 61.49% \t6101.2 sec \tLoss: 0.4063\n",
            "Batch: 12,500 64.05% \t6128.2 sec \tLoss: 0.4063\n",
            "Batch: 13,000 66.61% \t6155.2 sec \tLoss: 0.4062\n",
            "Batch: 13,500 69.17% \t6182.2 sec \tLoss: 0.4062\n",
            "Batch: 14,000 71.74% \t6209.2 sec \tLoss: 0.4062\n",
            "Batch: 14,500 74.30% \t6236.3 sec \tLoss: 0.4061\n",
            "Batch: 15,000 76.86% \t6263.3 sec \tLoss: 0.4061\n",
            "Val AUC: 0.79519\n",
            "Val time: 9.7 sec\n",
            "------------------------------------------------------------\n",
            "Batch: 15,500 79.42% \t6300.1 sec \tLoss: 0.4060\n",
            "Batch: 16,000 81.98% \t6327.2 sec \tLoss: 0.4060\n",
            "Batch: 16,500 84.55% \t6354.2 sec \tLoss: 0.4060\n",
            "Batch: 17,000 87.11% \t6381.3 sec \tLoss: 0.4059\n",
            "Batch: 17,500 89.67% \t6408.2 sec \tLoss: 0.4059\n",
            "Batch: 18,000 92.23% \t6435.2 sec \tLoss: 0.4059\n",
            "Batch: 18,500 94.79% \t6462.2 sec \tLoss: 0.4058\n",
            "Batch: 19,000 97.36% \t6489.2 sec \tLoss: 0.4058\n",
            "Batch: 19,500 99.92% \t6516.2 sec \tLoss: 0.4058\n",
            "Processed: 100.0%  706.6 sec\n",
            "OOS_AUC: 0.79803\n",
            "[0.79125, 0.79598, 0.79702, 0.79803]\n",
            "OOS Validation time: 708.1 sec\n",
            "================================================================================\n",
            "Checkpoint saved at /content/drive/My Drive/Riiid/checkpoints/a0_best/ckpt-4\n",
            "================================================================================\n"
          ]
        },
        {
          "output_type": "stream",
          "name": "stderr",
          "text": [
            "WARNING:absl:Found untraced functions such as dropout_12_layer_call_fn, dropout_12_layer_call_and_return_conditional_losses, dropout_17_layer_call_fn, dropout_17_layer_call_and_return_conditional_losses, dropout_12_layer_call_fn while saving (showing 5 of 320). These functions will not be directly callable after loading.\n"
          ]
        },
        {
          "output_type": "stream",
          "name": "stdout",
          "text": [
            "INFO:tensorflow:Assets written to: /content/drive/My Drive/Riiid/saved_models/a0_best_2021_11_29_04_06_ep_4/assets\n"
          ]
        },
        {
          "output_type": "stream",
          "name": "stderr",
          "text": [
            "INFO:tensorflow:Assets written to: /content/drive/My Drive/Riiid/saved_models/a0_best_2021_11_29_04_06_ep_4/assets\n"
          ]
        },
        {
          "output_type": "stream",
          "name": "stdout",
          "text": [
            "********************************************************************************\n",
            "********************************************************************************\n",
            "Completed Epoch: 4     7236.3 sec\n",
            "********************************************************************************\n",
            "********************************************************************************\n",
            "Batch: 500 2.56% \t7266.1 sec \tLoss: 0.4057\n",
            "Batch: 1,000 5.12% \t7293.1 sec \tLoss: 0.4057\n",
            "Batch: 1,500 7.69% \t7320.2 sec \tLoss: 0.4056\n",
            "Batch: 2,000 10.25% \t7347.2 sec \tLoss: 0.4056\n",
            "Batch: 2,500 12.81% \t7374.3 sec \tLoss: 0.4056\n",
            "Batch: 3,000 15.37% \t7401.4 sec \tLoss: 0.4055\n",
            "Batch: 3,500 17.93% \t7428.4 sec \tLoss: 0.4055\n",
            "Batch: 4,000 20.50% \t7455.5 sec \tLoss: 0.4055\n",
            "Batch: 4,500 23.06% \t7482.5 sec \tLoss: 0.4054\n",
            "Batch: 5,000 25.62% \t7509.6 sec \tLoss: 0.4054\n",
            "Val AUC: 0.80425\n",
            "Val time: 9.6 sec\n",
            "------------------------------------------------------------\n",
            "Batch: 5,500 28.18% \t7546.3 sec \tLoss: 0.4053\n",
            "Batch: 6,000 30.74% \t7573.3 sec \tLoss: 0.4053\n",
            "Batch: 6,500 33.31% \t7600.4 sec \tLoss: 0.4053\n",
            "Batch: 7,000 35.87% \t7627.5 sec \tLoss: 0.4052\n",
            "Batch: 7,500 38.43% \t7654.6 sec \tLoss: 0.4052\n",
            "Batch: 8,000 40.99% \t7681.6 sec \tLoss: 0.4052\n",
            "Batch: 8,500 43.55% \t7708.7 sec \tLoss: 0.4052\n",
            "Batch: 9,000 46.12% \t7735.8 sec \tLoss: 0.4051\n",
            "Batch: 9,500 48.68% \t7762.8 sec \tLoss: 0.4051\n",
            "Batch: 10,000 51.24% \t7789.9 sec \tLoss: 0.4051\n",
            "Val AUC: 0.79374\n",
            "Val time: 9.6 sec\n",
            "------------------------------------------------------------\n",
            "Batch: 10,500 53.80% \t7826.5 sec \tLoss: 0.4050\n",
            "Batch: 11,000 56.36% \t7853.6 sec \tLoss: 0.4050\n",
            "Batch: 11,500 58.93% \t7880.6 sec \tLoss: 0.4050\n",
            "Batch: 12,000 61.49% \t7907.7 sec \tLoss: 0.4049\n",
            "Batch: 12,500 64.05% \t7934.8 sec \tLoss: 0.4049\n",
            "Batch: 13,000 66.61% \t7961.8 sec \tLoss: 0.4049\n",
            "Batch: 13,500 69.17% \t7988.8 sec \tLoss: 0.4048\n",
            "Batch: 14,000 71.74% \t8015.8 sec \tLoss: 0.4048\n",
            "Batch: 14,500 74.30% \t8042.8 sec \tLoss: 0.4048\n",
            "Batch: 15,000 76.86% \t8069.9 sec \tLoss: 0.4047\n",
            "Val AUC: 0.79325\n",
            "Val time: 9.4 sec\n",
            "------------------------------------------------------------\n",
            "Batch: 15,500 79.42% \t8106.3 sec \tLoss: 0.4047\n",
            "Batch: 16,000 81.98% \t8133.3 sec \tLoss: 0.4047\n",
            "Batch: 16,500 84.55% \t8160.3 sec \tLoss: 0.4046\n",
            "Batch: 17,000 87.11% \t8187.3 sec \tLoss: 0.4046\n",
            "Batch: 17,500 89.67% \t8214.3 sec \tLoss: 0.4046\n",
            "Batch: 18,000 92.23% \t8241.3 sec \tLoss: 0.4045\n",
            "Batch: 18,500 94.79% \t8268.3 sec \tLoss: 0.4045\n",
            "Batch: 19,000 97.36% \t8295.2 sec \tLoss: 0.4045\n",
            "Batch: 19,500 99.92% \t8322.2 sec \tLoss: 0.4045\n",
            "Processed: 100.0%  705.4 sec\n",
            "OOS_AUC: 0.79847\n",
            "[0.79125, 0.79598, 0.79702, 0.79803, 0.79847]\n",
            "OOS Validation time: 707.0 sec\n",
            "================================================================================\n",
            "Checkpoint saved at /content/drive/My Drive/Riiid/checkpoints/a0_best/ckpt-5\n",
            "================================================================================\n"
          ]
        },
        {
          "output_type": "stream",
          "name": "stderr",
          "text": [
            "WARNING:absl:Found untraced functions such as dropout_12_layer_call_fn, dropout_12_layer_call_and_return_conditional_losses, dropout_17_layer_call_fn, dropout_17_layer_call_and_return_conditional_losses, dropout_12_layer_call_fn while saving (showing 5 of 320). These functions will not be directly callable after loading.\n"
          ]
        },
        {
          "output_type": "stream",
          "name": "stdout",
          "text": [
            "INFO:tensorflow:Assets written to: /content/drive/My Drive/Riiid/saved_models/a0_best_2021_11_29_04_36_ep_5/assets\n"
          ]
        },
        {
          "output_type": "stream",
          "name": "stderr",
          "text": [
            "INFO:tensorflow:Assets written to: /content/drive/My Drive/Riiid/saved_models/a0_best_2021_11_29_04_36_ep_5/assets\n"
          ]
        },
        {
          "output_type": "stream",
          "name": "stdout",
          "text": [
            "********************************************************************************\n",
            "********************************************************************************\n",
            "Completed Epoch: 5     9041.2 sec\n",
            "********************************************************************************\n",
            "********************************************************************************\n"
          ]
        }
      ]
    },
    {
      "cell_type": "code",
      "metadata": {
        "id": "pH8OBSEhzZ76",
        "colab": {
          "base_uri": "https://localhost:8080/"
        },
        "outputId": "12449b80-964b-449a-c85a-9aa051c7693c"
      },
      "source": [
        "print(val_AUCs)\n",
        "print(oos_val_AUCs)"
      ],
      "execution_count": 45,
      "outputs": [
        {
          "output_type": "stream",
          "name": "stdout",
          "text": [
            "[0.7702157490298648, 0.7846806294119475, 0.7743632193010248, 0.7911638159870328, 0.7976129858682288, 0.789406328961167, 0.7907485445502762, 0.7980851219232254, 0.7956418745458875, 0.7876608980701958, 0.7948231934748888, 0.7951949720655948, 0.8042490386590163, 0.7937394195967413, 0.7932496400666103]\n",
            "[0.7912545998862531, 0.7959776171526491, 0.7970200776105302, 0.798027096551581, 0.7984677831600554]\n"
          ]
        }
      ]
    },
    {
      "cell_type": "code",
      "metadata": {
        "id": "ydIdc5fviFMY",
        "colab": {
          "base_uri": "https://localhost:8080/",
          "height": 282
        },
        "outputId": "af245df5-4a18-4b0b-a114-dcbe5552e3f8"
      },
      "source": [
        "plt.plot(val_AUCs)\n",
        "plt.title('Val AUC'); plt.grid(); plt.show()"
      ],
      "execution_count": 46,
      "outputs": [
        {
          "output_type": "display_data",
          "data": {
            "image/png": "[encoded data removed]",
            "text/plain": [
              "<Figure size 432x288 with 1 Axes>"
            ]
          },
          "metadata": {}
        }
      ]
    },
    {
      "cell_type": "code",
      "metadata": {
        "id": "5yof-bOniAmo",
        "colab": {
          "base_uri": "https://localhost:8080/",
          "height": 282
        },
        "outputId": "5a4f10e4-7efb-4370-d644-445ebb13bb52"
      },
      "source": [
        "plt.plot(oos_val_AUCs)\n",
        "plt.title('OOS Val AUC'); plt.grid(); plt.show()"
      ],
      "execution_count": 47,
      "outputs": [
        {
          "output_type": "display_data",
          "data": {
            "image/png": "[encoded data removed]",
            "text/plain": [
              "<Figure size 432x288 with 1 Axes>"
            ]
          },
          "metadata": {}
        }
      ]
    },
    {
      "cell_type": "code",
      "metadata": {
        "id": "GrX3iJlGrIoU",
        "colab": {
          "base_uri": "https://localhost:8080/"
        },
        "outputId": "612691a3-1ebd-4264-81db-7031c684d803"
      },
      "source": [
        "print (80*'='); print(f'GLOBAL TIME: {time.time()-TIC:.1f} sec'); print(80*'=')"
      ],
      "execution_count": 48,
      "outputs": [
        {
          "output_type": "stream",
          "name": "stdout",
          "text": [
            "================================================================================\n",
            "GLOBAL TIME: 9704.8 sec\n",
            "================================================================================\n"
          ]
        }
      ]
    },
    {
      "cell_type": "markdown",
      "metadata": {
        "id": "Gq---ebJLrL3"
      },
      "source": [
        "## Feature Importance"
      ]
    },
    {
      "cell_type": "code",
      "metadata": {
        "colab": {
          "base_uri": "https://localhost:8080/"
        },
        "id": "WLgp7pN1TCvn",
        "outputId": "b5c7df3e-deb1-4089-8788-6f80ddcd40dc"
      },
      "source": [
        "y_true, y_pred = [],[]\n",
        "for el in val_ds: \n",
        "    idx = get_last_t(el)\n",
        "    y_true.append(tf.gather(el[:, :, ds_po.y_true], idx, batch_dims=1, axis=1))\n",
        "    y_pred.append(tf.gather(transformer(el, training=False), idx, batch_dims=1, axis=1))\n",
        "AUC_true = roc_auc_score(np.concatenate(y_true), np.concatenate(y_pred))\n",
        "print(AUC_true)"
      ],
      "execution_count": 49,
      "outputs": [
        {
          "output_type": "stream",
          "name": "stdout",
          "text": [
            "0.8037446294724413\n"
          ]
        }
      ]
    },
    {
      "cell_type": "code",
      "metadata": {
        "id": "dD9lt3QauUqU"
      },
      "source": [
        "def shuffle_tensor(arr, pos):\n",
        "    arr = arr.numpy()\n",
        "    f_slice = arr[:,:,pos].copy()\n",
        "    f_shuffled = f_slice.reshape(-1)\n",
        "    np.random.shuffle(f_shuffled)\n",
        "    arr[:,:,pos] = f_shuffled.reshape(f_slice.shape)\n",
        "    return arr\n",
        "\n",
        "permuted_AUC = {}\n",
        "for shuffle_pos, feature in enumerate(ds_features):\n",
        "    y_true, y_pred = [],[]\n",
        "    for el in val_ds: \n",
        "        \n",
        "        idx = get_last_t(el)\n",
        "        y_true.append(tf.gather(el[:, :, ds_po.y_true], idx, batch_dims=1, axis=1))\n",
        "\n",
        "        el = shuffle_tensor(el, shuffle_pos)\n",
        "        y_pred.append(tf.gather(transformer(el, training=False), idx, batch_dims=1, axis=1))\n",
        "\n",
        "    permuted_AUC[feature] = roc_auc_score(np.concatenate(y_true), np.concatenate(y_pred))"
      ],
      "execution_count": 50,
      "outputs": []
    },
    {
      "cell_type": "code",
      "metadata": {
        "colab": {
          "base_uri": "https://localhost:8080/",
          "height": 282
        },
        "id": "1yE1JFIESVK1",
        "outputId": "2df7ea8a-b553-420e-bd87-19e05da1a1e4"
      },
      "source": [
        "fi = {}\n",
        "for k in permuted_AUC.keys():  \n",
        "    if k == 'y_true': continue\n",
        "    fi[k] = AUC_true - permuted_AUC[k]\n",
        "\n",
        "plt.barh(list(fi.keys()), list(fi.values()))\n",
        "plt.title('Permutation FI: AUC deterioration')\n",
        "plt.show()"
      ],
      "execution_count": 51,
      "outputs": [
        {
          "output_type": "display_data",
          "data": {
            "image/png": "[encoded data removed]",
            "text/plain": [
              "<Figure size 432x288 with 1 Axes>"
            ]
          },
          "metadata": {}
        }
      ]
    }
  ]
}